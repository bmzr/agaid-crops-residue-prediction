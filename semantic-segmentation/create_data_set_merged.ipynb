{
 "cells": [
  {
   "cell_type": "code",
   "execution_count": 75,
   "id": "1bf08791-08c2-495f-b97b-447994d3071d",
   "metadata": {},
   "outputs": [
    {
     "data": {
      "application/vnd.jupyter.widget-view+json": {
       "model_id": "243293744e1a4997964bfde1725b3543",
       "version_major": 2,
       "version_minor": 0
      },
      "text/plain": [
       "VBox(children=(HTML(value='<center> <img\\nsrc=https://huggingface.co/front/assets/huggingface_logo-noborder.sv…"
      ]
     },
     "metadata": {},
     "output_type": "display_data"
    }
   ],
   "source": [
    "from huggingface_hub import notebook_login\n",
    "notebook_login()"
   ]
  },
  {
   "cell_type": "code",
   "execution_count": 79,
   "id": "074f9b02-7ae8-4700-bdcb-1c17f8e6fbe1",
   "metadata": {},
   "outputs": [],
   "source": [
    "from datasets import Dataset, DatasetDict, Image\n",
    "from pathlib import Path\n",
    "import os\n",
    "import numpy as np"
   ]
  },
  {
   "cell_type": "code",
   "execution_count": 107,
   "id": "dc921843-5a20-4096-9ded-b21d2f2be0ef",
   "metadata": {},
   "outputs": [],
   "source": [
    "image_folder_train = Path(\"data_crop_merged/train/image/\")\n",
    "res_label_folder_train = Path(\"data_crop_merged/train/res_label/\")\n",
    "shad_label_folder_train = Path(\"data_crop_merged/train/shad_label/\")\n",
    "image_paths_train = [str(file) for file in image_folder_train.iterdir() if file.is_file()]\n",
    "res_label_paths_train = [str(file) for file in res_label_folder_train.iterdir() if file.is_file()]\n",
    "shad_label_paths_train = [str(file) for file in shad_label_folder_train.iterdir() if file.is_file()]\n",
    "image_paths_train.sort()\n",
    "res_label_paths_train.sort()\n",
    "shad_label_paths_train.sort()"
   ]
  },
  {
   "cell_type": "code",
   "execution_count": 108,
   "id": "22bb9fbe-4c2b-43fc-82d8-b68c549b8b5d",
   "metadata": {},
   "outputs": [],
   "source": [
    "assert len(image_paths_train) == len(res_label_paths_train) == len(shad_label_paths_train)"
   ]
  },
  {
   "cell_type": "code",
   "execution_count": 109,
   "id": "e9f22969-0353-4d88-b9fb-bcb78f22aea4",
   "metadata": {},
   "outputs": [],
   "source": [
    "from PIL import Image as pil_image\n",
    "for i in range(len(image_paths_train)):\n",
    "    res_label_path = res_label_paths_train[i]\n",
    "    shad_label_path = shad_label_paths_train[i]\n",
    "    with pil_image.open(res_label_path) as res_mask_img:\n",
    "        with pil_image.open(shad_label_path) as shad_mask_img:\n",
    "            res_mask = np.array(res_mask_img)\n",
    "            shad_mask = np.array(shad_mask_img)\n",
    "    \n",
    "            res_mask[res_mask == 255] = 1 # residue is 1 and soil is 0\n",
    "            shad_mask[shad_mask == 255] = 1 # shaded is 1 and sunlit is 0\n",
    "            new_mask = np.zeros_like(res_mask, dtype=np.uint8)\n",
    "            \n",
    "            # residue and sunlit\n",
    "            new_mask[(res_mask == 1) & (shad_mask == 0)] = 1\n",
    "            \n",
    "            # residue and shaded\n",
    "            new_mask[(res_mask == 1) & (shad_mask == 1)] = 2\n",
    "            \n",
    "            # background and sunlit\n",
    "            new_mask[(res_mask == 0) & (shad_mask == 0)] = 3\n",
    "            \n",
    "            # background and shaded\n",
    "            new_mask[(res_mask == 0) & (shad_mask == 1)] = 4\n",
    "            # Create a new PIL image and save\n",
    "            path_parts = res_label_path.split(\"/\")\n",
    "            path_parts[-1] = path_parts[-1].replace(\"res\",\"res_shad\")\n",
    "            path_parts[-2] = path_parts[-2].replace(\"res_\", \"\")\n",
    "            res_file_path = \"/\".join(path_parts)\n",
    "            path_parts = shad_label_path.split(\"/\")\n",
    "            path_parts[-1] = path_parts[-1].replace(\"sunshad\",\"res_shad\")\n",
    "            path_parts[-2] = path_parts[-2].replace(\"shad_\", \"\")\n",
    "            shad_file_path = \"/\".join(path_parts)\n",
    "            # print(res_file_path)\n",
    "            # print(shad_file_path)\n",
    "            assert res_file_path == shad_file_path\n",
    "            mask_binary = pil_image.fromarray(new_mask)\n",
    "            # file_path = res_label_path.name()\n",
    "            mask_binary.save(res_file_path)\n"
   ]
  },
  {
   "cell_type": "code",
   "execution_count": 110,
   "id": "074677e7-87a2-4dcf-a616-2d4ffda91499",
   "metadata": {},
   "outputs": [
    {
     "name": "stdout",
     "output_type": "stream",
     "text": [
      "data_crop_merged/train/label/IMG_0946_res_shad_part16.tif\n"
     ]
    }
   ],
   "source": [
    "print(file_path)"
   ]
  },
  {
   "cell_type": "code",
   "execution_count": 111,
   "id": "89fceb96-c1e9-499d-85c4-ce4797a07823",
   "metadata": {},
   "outputs": [],
   "source": [
    "label_folder_train = Path(\"data_crop_merged/train/label/\")\n",
    "label_paths_train = [str(file) for file in label_folder_train.iterdir() if file.is_file()]"
   ]
  },
  {
   "cell_type": "code",
   "execution_count": 112,
   "id": "2beee788-7fbe-4387-8dcc-f62689c3a4d8",
   "metadata": {},
   "outputs": [
    {
     "name": "stdout",
     "output_type": "stream",
     "text": [
      "['data_crop_merged/train/label/IMG_0629_res_shad_part01.tif', 'data_crop_merged/train/label/IMG_0629_res_shad_part02.tif', 'data_crop_merged/train/label/IMG_0629_res_shad_part03.tif', 'data_crop_merged/train/label/IMG_0629_res_shad_part04.tif', 'data_crop_merged/train/label/IMG_0629_res_shad_part05.tif', 'data_crop_merged/train/label/IMG_0629_res_shad_part06.tif', 'data_crop_merged/train/label/IMG_0629_res_shad_part07.tif', 'data_crop_merged/train/label/IMG_0629_res_shad_part08.tif', 'data_crop_merged/train/label/IMG_0629_res_shad_part09.tif', 'data_crop_merged/train/label/IMG_0629_res_shad_part10.tif', 'data_crop_merged/train/label/IMG_0629_res_shad_part11.tif', 'data_crop_merged/train/label/IMG_0629_res_shad_part12.tif', 'data_crop_merged/train/label/IMG_0629_res_shad_part13.tif', 'data_crop_merged/train/label/IMG_0629_res_shad_part14.tif', 'data_crop_merged/train/label/IMG_0629_res_shad_part15.tif', 'data_crop_merged/train/label/IMG_0629_res_shad_part16.tif', 'data_crop_merged/train/label/IMG_0630_res_shad_part01.tif', 'data_crop_merged/train/label/IMG_0630_res_shad_part02.tif', 'data_crop_merged/train/label/IMG_0630_res_shad_part03.tif', 'data_crop_merged/train/label/IMG_0630_res_shad_part04.tif', 'data_crop_merged/train/label/IMG_0630_res_shad_part05.tif', 'data_crop_merged/train/label/IMG_0630_res_shad_part06.tif', 'data_crop_merged/train/label/IMG_0630_res_shad_part07.tif', 'data_crop_merged/train/label/IMG_0630_res_shad_part08.tif', 'data_crop_merged/train/label/IMG_0630_res_shad_part09.tif', 'data_crop_merged/train/label/IMG_0630_res_shad_part10.tif', 'data_crop_merged/train/label/IMG_0630_res_shad_part11.tif', 'data_crop_merged/train/label/IMG_0630_res_shad_part12.tif', 'data_crop_merged/train/label/IMG_0630_res_shad_part13.tif', 'data_crop_merged/train/label/IMG_0630_res_shad_part14.tif', 'data_crop_merged/train/label/IMG_0630_res_shad_part15.tif', 'data_crop_merged/train/label/IMG_0630_res_shad_part16.tif', 'data_crop_merged/train/label/IMG_0631_res_shad_part01.tif', 'data_crop_merged/train/label/IMG_0631_res_shad_part02.tif', 'data_crop_merged/train/label/IMG_0631_res_shad_part03.tif', 'data_crop_merged/train/label/IMG_0631_res_shad_part04.tif', 'data_crop_merged/train/label/IMG_0631_res_shad_part05.tif', 'data_crop_merged/train/label/IMG_0631_res_shad_part06.tif', 'data_crop_merged/train/label/IMG_0631_res_shad_part07.tif', 'data_crop_merged/train/label/IMG_0631_res_shad_part08.tif', 'data_crop_merged/train/label/IMG_0631_res_shad_part09.tif', 'data_crop_merged/train/label/IMG_0631_res_shad_part10.tif', 'data_crop_merged/train/label/IMG_0631_res_shad_part11.tif', 'data_crop_merged/train/label/IMG_0631_res_shad_part12.tif', 'data_crop_merged/train/label/IMG_0631_res_shad_part13.tif', 'data_crop_merged/train/label/IMG_0631_res_shad_part14.tif', 'data_crop_merged/train/label/IMG_0631_res_shad_part15.tif', 'data_crop_merged/train/label/IMG_0631_res_shad_part16.tif', 'data_crop_merged/train/label/IMG_0632_res_shad_part01.tif', 'data_crop_merged/train/label/IMG_0632_res_shad_part02.tif', 'data_crop_merged/train/label/IMG_0632_res_shad_part03.tif', 'data_crop_merged/train/label/IMG_0632_res_shad_part04.tif', 'data_crop_merged/train/label/IMG_0632_res_shad_part05.tif', 'data_crop_merged/train/label/IMG_0632_res_shad_part06.tif', 'data_crop_merged/train/label/IMG_0632_res_shad_part07.tif', 'data_crop_merged/train/label/IMG_0632_res_shad_part08.tif', 'data_crop_merged/train/label/IMG_0632_res_shad_part09.tif', 'data_crop_merged/train/label/IMG_0632_res_shad_part10.tif', 'data_crop_merged/train/label/IMG_0632_res_shad_part11.tif', 'data_crop_merged/train/label/IMG_0632_res_shad_part12.tif', 'data_crop_merged/train/label/IMG_0632_res_shad_part13.tif', 'data_crop_merged/train/label/IMG_0632_res_shad_part14.tif', 'data_crop_merged/train/label/IMG_0632_res_shad_part15.tif', 'data_crop_merged/train/label/IMG_0632_res_shad_part16.tif', 'data_crop_merged/train/label/IMG_0633_res_shad_part01.tif', 'data_crop_merged/train/label/IMG_0633_res_shad_part02.tif', 'data_crop_merged/train/label/IMG_0633_res_shad_part03.tif', 'data_crop_merged/train/label/IMG_0633_res_shad_part04.tif', 'data_crop_merged/train/label/IMG_0633_res_shad_part05.tif', 'data_crop_merged/train/label/IMG_0633_res_shad_part06.tif', 'data_crop_merged/train/label/IMG_0633_res_shad_part07.tif', 'data_crop_merged/train/label/IMG_0633_res_shad_part08.tif', 'data_crop_merged/train/label/IMG_0633_res_shad_part09.tif', 'data_crop_merged/train/label/IMG_0633_res_shad_part10.tif', 'data_crop_merged/train/label/IMG_0633_res_shad_part11.tif', 'data_crop_merged/train/label/IMG_0633_res_shad_part12.tif', 'data_crop_merged/train/label/IMG_0633_res_shad_part13.tif', 'data_crop_merged/train/label/IMG_0633_res_shad_part14.tif', 'data_crop_merged/train/label/IMG_0633_res_shad_part15.tif', 'data_crop_merged/train/label/IMG_0633_res_shad_part16.tif', 'data_crop_merged/train/label/IMG_0635_res_shad_part01.tif', 'data_crop_merged/train/label/IMG_0635_res_shad_part02.tif', 'data_crop_merged/train/label/IMG_0635_res_shad_part03.tif', 'data_crop_merged/train/label/IMG_0635_res_shad_part04.tif', 'data_crop_merged/train/label/IMG_0635_res_shad_part05.tif', 'data_crop_merged/train/label/IMG_0635_res_shad_part06.tif', 'data_crop_merged/train/label/IMG_0635_res_shad_part07.tif', 'data_crop_merged/train/label/IMG_0635_res_shad_part08.tif', 'data_crop_merged/train/label/IMG_0635_res_shad_part09.tif', 'data_crop_merged/train/label/IMG_0635_res_shad_part10.tif', 'data_crop_merged/train/label/IMG_0635_res_shad_part11.tif', 'data_crop_merged/train/label/IMG_0635_res_shad_part12.tif', 'data_crop_merged/train/label/IMG_0635_res_shad_part13.tif', 'data_crop_merged/train/label/IMG_0635_res_shad_part14.tif', 'data_crop_merged/train/label/IMG_0635_res_shad_part15.tif', 'data_crop_merged/train/label/IMG_0635_res_shad_part16.tif', 'data_crop_merged/train/label/IMG_0636_res_shad_part01.tif', 'data_crop_merged/train/label/IMG_0636_res_shad_part02.tif', 'data_crop_merged/train/label/IMG_0636_res_shad_part03.tif', 'data_crop_merged/train/label/IMG_0636_res_shad_part04.tif', 'data_crop_merged/train/label/IMG_0636_res_shad_part05.tif', 'data_crop_merged/train/label/IMG_0636_res_shad_part06.tif', 'data_crop_merged/train/label/IMG_0636_res_shad_part07.tif', 'data_crop_merged/train/label/IMG_0636_res_shad_part08.tif', 'data_crop_merged/train/label/IMG_0636_res_shad_part09.tif', 'data_crop_merged/train/label/IMG_0636_res_shad_part10.tif', 'data_crop_merged/train/label/IMG_0636_res_shad_part11.tif', 'data_crop_merged/train/label/IMG_0636_res_shad_part12.tif', 'data_crop_merged/train/label/IMG_0636_res_shad_part13.tif', 'data_crop_merged/train/label/IMG_0636_res_shad_part14.tif', 'data_crop_merged/train/label/IMG_0636_res_shad_part15.tif', 'data_crop_merged/train/label/IMG_0636_res_shad_part16.tif', 'data_crop_merged/train/label/IMG_0637_res_shad_part01.tif', 'data_crop_merged/train/label/IMG_0637_res_shad_part02.tif', 'data_crop_merged/train/label/IMG_0637_res_shad_part03.tif', 'data_crop_merged/train/label/IMG_0637_res_shad_part04.tif', 'data_crop_merged/train/label/IMG_0637_res_shad_part05.tif', 'data_crop_merged/train/label/IMG_0637_res_shad_part06.tif', 'data_crop_merged/train/label/IMG_0637_res_shad_part07.tif', 'data_crop_merged/train/label/IMG_0637_res_shad_part08.tif', 'data_crop_merged/train/label/IMG_0637_res_shad_part09.tif', 'data_crop_merged/train/label/IMG_0637_res_shad_part10.tif', 'data_crop_merged/train/label/IMG_0637_res_shad_part11.tif', 'data_crop_merged/train/label/IMG_0637_res_shad_part12.tif', 'data_crop_merged/train/label/IMG_0637_res_shad_part13.tif', 'data_crop_merged/train/label/IMG_0637_res_shad_part14.tif', 'data_crop_merged/train/label/IMG_0637_res_shad_part15.tif', 'data_crop_merged/train/label/IMG_0637_res_shad_part16.tif', 'data_crop_merged/train/label/IMG_0638_res_shad_part01.tif', 'data_crop_merged/train/label/IMG_0638_res_shad_part02.tif', 'data_crop_merged/train/label/IMG_0638_res_shad_part03.tif', 'data_crop_merged/train/label/IMG_0638_res_shad_part04.tif', 'data_crop_merged/train/label/IMG_0638_res_shad_part05.tif', 'data_crop_merged/train/label/IMG_0638_res_shad_part06.tif', 'data_crop_merged/train/label/IMG_0638_res_shad_part07.tif', 'data_crop_merged/train/label/IMG_0638_res_shad_part08.tif', 'data_crop_merged/train/label/IMG_0638_res_shad_part09.tif', 'data_crop_merged/train/label/IMG_0638_res_shad_part10.tif', 'data_crop_merged/train/label/IMG_0638_res_shad_part11.tif', 'data_crop_merged/train/label/IMG_0638_res_shad_part12.tif', 'data_crop_merged/train/label/IMG_0638_res_shad_part13.tif', 'data_crop_merged/train/label/IMG_0638_res_shad_part14.tif', 'data_crop_merged/train/label/IMG_0638_res_shad_part15.tif', 'data_crop_merged/train/label/IMG_0638_res_shad_part16.tif', 'data_crop_merged/train/label/IMG_0782_res_shad_part01.tif', 'data_crop_merged/train/label/IMG_0782_res_shad_part02.tif', 'data_crop_merged/train/label/IMG_0782_res_shad_part03.tif', 'data_crop_merged/train/label/IMG_0782_res_shad_part04.tif', 'data_crop_merged/train/label/IMG_0782_res_shad_part05.tif', 'data_crop_merged/train/label/IMG_0782_res_shad_part06.tif', 'data_crop_merged/train/label/IMG_0782_res_shad_part07.tif', 'data_crop_merged/train/label/IMG_0782_res_shad_part08.tif', 'data_crop_merged/train/label/IMG_0782_res_shad_part09.tif', 'data_crop_merged/train/label/IMG_0782_res_shad_part10.tif', 'data_crop_merged/train/label/IMG_0782_res_shad_part11.tif', 'data_crop_merged/train/label/IMG_0782_res_shad_part12.tif', 'data_crop_merged/train/label/IMG_0782_res_shad_part13.tif', 'data_crop_merged/train/label/IMG_0782_res_shad_part14.tif', 'data_crop_merged/train/label/IMG_0782_res_shad_part15.tif', 'data_crop_merged/train/label/IMG_0782_res_shad_part16.tif', 'data_crop_merged/train/label/IMG_0783_res_shad_part01.tif', 'data_crop_merged/train/label/IMG_0783_res_shad_part02.tif', 'data_crop_merged/train/label/IMG_0783_res_shad_part03.tif', 'data_crop_merged/train/label/IMG_0783_res_shad_part04.tif', 'data_crop_merged/train/label/IMG_0783_res_shad_part05.tif', 'data_crop_merged/train/label/IMG_0783_res_shad_part06.tif', 'data_crop_merged/train/label/IMG_0783_res_shad_part07.tif', 'data_crop_merged/train/label/IMG_0783_res_shad_part08.tif', 'data_crop_merged/train/label/IMG_0783_res_shad_part09.tif', 'data_crop_merged/train/label/IMG_0783_res_shad_part10.tif', 'data_crop_merged/train/label/IMG_0783_res_shad_part11.tif', 'data_crop_merged/train/label/IMG_0783_res_shad_part12.tif', 'data_crop_merged/train/label/IMG_0783_res_shad_part13.tif', 'data_crop_merged/train/label/IMG_0783_res_shad_part14.tif', 'data_crop_merged/train/label/IMG_0783_res_shad_part15.tif', 'data_crop_merged/train/label/IMG_0783_res_shad_part16.tif', 'data_crop_merged/train/label/IMG_0784_res_shad_part01.tif', 'data_crop_merged/train/label/IMG_0784_res_shad_part02.tif', 'data_crop_merged/train/label/IMG_0784_res_shad_part03.tif', 'data_crop_merged/train/label/IMG_0784_res_shad_part04.tif', 'data_crop_merged/train/label/IMG_0784_res_shad_part05.tif', 'data_crop_merged/train/label/IMG_0784_res_shad_part06.tif', 'data_crop_merged/train/label/IMG_0784_res_shad_part07.tif', 'data_crop_merged/train/label/IMG_0784_res_shad_part08.tif', 'data_crop_merged/train/label/IMG_0784_res_shad_part09.tif', 'data_crop_merged/train/label/IMG_0784_res_shad_part10.tif', 'data_crop_merged/train/label/IMG_0784_res_shad_part11.tif', 'data_crop_merged/train/label/IMG_0784_res_shad_part12.tif', 'data_crop_merged/train/label/IMG_0784_res_shad_part13.tif', 'data_crop_merged/train/label/IMG_0784_res_shad_part14.tif', 'data_crop_merged/train/label/IMG_0784_res_shad_part15.tif', 'data_crop_merged/train/label/IMG_0784_res_shad_part16.tif', 'data_crop_merged/train/label/IMG_0786_res_shad_part01.tif', 'data_crop_merged/train/label/IMG_0786_res_shad_part02.tif', 'data_crop_merged/train/label/IMG_0786_res_shad_part03.tif', 'data_crop_merged/train/label/IMG_0786_res_shad_part04.tif', 'data_crop_merged/train/label/IMG_0786_res_shad_part05.tif', 'data_crop_merged/train/label/IMG_0786_res_shad_part06.tif', 'data_crop_merged/train/label/IMG_0786_res_shad_part07.tif', 'data_crop_merged/train/label/IMG_0786_res_shad_part08.tif', 'data_crop_merged/train/label/IMG_0786_res_shad_part09.tif', 'data_crop_merged/train/label/IMG_0786_res_shad_part10.tif', 'data_crop_merged/train/label/IMG_0786_res_shad_part11.tif', 'data_crop_merged/train/label/IMG_0786_res_shad_part12.tif', 'data_crop_merged/train/label/IMG_0786_res_shad_part13.tif', 'data_crop_merged/train/label/IMG_0786_res_shad_part14.tif', 'data_crop_merged/train/label/IMG_0786_res_shad_part15.tif', 'data_crop_merged/train/label/IMG_0786_res_shad_part16.tif', 'data_crop_merged/train/label/IMG_0787_res_shad_part01.tif', 'data_crop_merged/train/label/IMG_0787_res_shad_part02.tif', 'data_crop_merged/train/label/IMG_0787_res_shad_part03.tif', 'data_crop_merged/train/label/IMG_0787_res_shad_part04.tif', 'data_crop_merged/train/label/IMG_0787_res_shad_part05.tif', 'data_crop_merged/train/label/IMG_0787_res_shad_part06.tif', 'data_crop_merged/train/label/IMG_0787_res_shad_part07.tif', 'data_crop_merged/train/label/IMG_0787_res_shad_part08.tif', 'data_crop_merged/train/label/IMG_0787_res_shad_part09.tif', 'data_crop_merged/train/label/IMG_0787_res_shad_part10.tif', 'data_crop_merged/train/label/IMG_0787_res_shad_part11.tif', 'data_crop_merged/train/label/IMG_0787_res_shad_part12.tif', 'data_crop_merged/train/label/IMG_0787_res_shad_part13.tif', 'data_crop_merged/train/label/IMG_0787_res_shad_part14.tif', 'data_crop_merged/train/label/IMG_0787_res_shad_part15.tif', 'data_crop_merged/train/label/IMG_0787_res_shad_part16.tif', 'data_crop_merged/train/label/IMG_0788_res_shad_part01.tif', 'data_crop_merged/train/label/IMG_0788_res_shad_part02.tif', 'data_crop_merged/train/label/IMG_0788_res_shad_part03.tif', 'data_crop_merged/train/label/IMG_0788_res_shad_part04.tif', 'data_crop_merged/train/label/IMG_0788_res_shad_part05.tif', 'data_crop_merged/train/label/IMG_0788_res_shad_part06.tif', 'data_crop_merged/train/label/IMG_0788_res_shad_part07.tif', 'data_crop_merged/train/label/IMG_0788_res_shad_part08.tif', 'data_crop_merged/train/label/IMG_0788_res_shad_part09.tif', 'data_crop_merged/train/label/IMG_0788_res_shad_part10.tif', 'data_crop_merged/train/label/IMG_0788_res_shad_part11.tif', 'data_crop_merged/train/label/IMG_0788_res_shad_part12.tif', 'data_crop_merged/train/label/IMG_0788_res_shad_part13.tif', 'data_crop_merged/train/label/IMG_0788_res_shad_part14.tif', 'data_crop_merged/train/label/IMG_0788_res_shad_part15.tif', 'data_crop_merged/train/label/IMG_0788_res_shad_part16.tif', 'data_crop_merged/train/label/IMG_0789_res_shad_part01.tif', 'data_crop_merged/train/label/IMG_0789_res_shad_part02.tif', 'data_crop_merged/train/label/IMG_0789_res_shad_part03.tif', 'data_crop_merged/train/label/IMG_0789_res_shad_part04.tif', 'data_crop_merged/train/label/IMG_0789_res_shad_part05.tif', 'data_crop_merged/train/label/IMG_0789_res_shad_part06.tif', 'data_crop_merged/train/label/IMG_0789_res_shad_part07.tif', 'data_crop_merged/train/label/IMG_0789_res_shad_part08.tif', 'data_crop_merged/train/label/IMG_0789_res_shad_part09.tif', 'data_crop_merged/train/label/IMG_0789_res_shad_part10.tif', 'data_crop_merged/train/label/IMG_0789_res_shad_part11.tif', 'data_crop_merged/train/label/IMG_0789_res_shad_part12.tif', 'data_crop_merged/train/label/IMG_0789_res_shad_part13.tif', 'data_crop_merged/train/label/IMG_0789_res_shad_part14.tif', 'data_crop_merged/train/label/IMG_0789_res_shad_part15.tif', 'data_crop_merged/train/label/IMG_0789_res_shad_part16.tif', 'data_crop_merged/train/label/IMG_0807_res_shad_part01.tif', 'data_crop_merged/train/label/IMG_0807_res_shad_part02.tif', 'data_crop_merged/train/label/IMG_0807_res_shad_part03.tif', 'data_crop_merged/train/label/IMG_0807_res_shad_part04.tif', 'data_crop_merged/train/label/IMG_0807_res_shad_part05.tif', 'data_crop_merged/train/label/IMG_0807_res_shad_part06.tif', 'data_crop_merged/train/label/IMG_0807_res_shad_part07.tif', 'data_crop_merged/train/label/IMG_0807_res_shad_part08.tif', 'data_crop_merged/train/label/IMG_0807_res_shad_part09.tif', 'data_crop_merged/train/label/IMG_0807_res_shad_part10.tif', 'data_crop_merged/train/label/IMG_0807_res_shad_part11.tif', 'data_crop_merged/train/label/IMG_0807_res_shad_part12.tif', 'data_crop_merged/train/label/IMG_0807_res_shad_part13.tif', 'data_crop_merged/train/label/IMG_0807_res_shad_part14.tif', 'data_crop_merged/train/label/IMG_0807_res_shad_part15.tif', 'data_crop_merged/train/label/IMG_0807_res_shad_part16.tif', 'data_crop_merged/train/label/IMG_0808_res_shad_part01.tif', 'data_crop_merged/train/label/IMG_0808_res_shad_part02.tif', 'data_crop_merged/train/label/IMG_0808_res_shad_part03.tif', 'data_crop_merged/train/label/IMG_0808_res_shad_part04.tif', 'data_crop_merged/train/label/IMG_0808_res_shad_part05.tif', 'data_crop_merged/train/label/IMG_0808_res_shad_part06.tif', 'data_crop_merged/train/label/IMG_0808_res_shad_part07.tif', 'data_crop_merged/train/label/IMG_0808_res_shad_part08.tif', 'data_crop_merged/train/label/IMG_0808_res_shad_part09.tif', 'data_crop_merged/train/label/IMG_0808_res_shad_part10.tif', 'data_crop_merged/train/label/IMG_0808_res_shad_part11.tif', 'data_crop_merged/train/label/IMG_0808_res_shad_part12.tif', 'data_crop_merged/train/label/IMG_0808_res_shad_part13.tif', 'data_crop_merged/train/label/IMG_0808_res_shad_part14.tif', 'data_crop_merged/train/label/IMG_0808_res_shad_part15.tif', 'data_crop_merged/train/label/IMG_0808_res_shad_part16.tif', 'data_crop_merged/train/label/IMG_0809_res_shad_part01.tif', 'data_crop_merged/train/label/IMG_0809_res_shad_part02.tif', 'data_crop_merged/train/label/IMG_0809_res_shad_part03.tif', 'data_crop_merged/train/label/IMG_0809_res_shad_part04.tif', 'data_crop_merged/train/label/IMG_0809_res_shad_part05.tif', 'data_crop_merged/train/label/IMG_0809_res_shad_part06.tif', 'data_crop_merged/train/label/IMG_0809_res_shad_part07.tif', 'data_crop_merged/train/label/IMG_0809_res_shad_part08.tif', 'data_crop_merged/train/label/IMG_0809_res_shad_part09.tif', 'data_crop_merged/train/label/IMG_0809_res_shad_part10.tif', 'data_crop_merged/train/label/IMG_0809_res_shad_part11.tif', 'data_crop_merged/train/label/IMG_0809_res_shad_part12.tif', 'data_crop_merged/train/label/IMG_0809_res_shad_part13.tif', 'data_crop_merged/train/label/IMG_0809_res_shad_part14.tif', 'data_crop_merged/train/label/IMG_0809_res_shad_part15.tif', 'data_crop_merged/train/label/IMG_0809_res_shad_part16.tif', 'data_crop_merged/train/label/IMG_0810_res_shad_part01.tif', 'data_crop_merged/train/label/IMG_0810_res_shad_part02.tif', 'data_crop_merged/train/label/IMG_0810_res_shad_part03.tif', 'data_crop_merged/train/label/IMG_0810_res_shad_part04.tif', 'data_crop_merged/train/label/IMG_0810_res_shad_part05.tif', 'data_crop_merged/train/label/IMG_0810_res_shad_part06.tif', 'data_crop_merged/train/label/IMG_0810_res_shad_part07.tif', 'data_crop_merged/train/label/IMG_0810_res_shad_part08.tif', 'data_crop_merged/train/label/IMG_0810_res_shad_part09.tif', 'data_crop_merged/train/label/IMG_0810_res_shad_part10.tif', 'data_crop_merged/train/label/IMG_0810_res_shad_part11.tif', 'data_crop_merged/train/label/IMG_0810_res_shad_part12.tif', 'data_crop_merged/train/label/IMG_0810_res_shad_part13.tif', 'data_crop_merged/train/label/IMG_0810_res_shad_part14.tif', 'data_crop_merged/train/label/IMG_0810_res_shad_part15.tif', 'data_crop_merged/train/label/IMG_0810_res_shad_part16.tif', 'data_crop_merged/train/label/IMG_0812_res_shad_part01.tif', 'data_crop_merged/train/label/IMG_0812_res_shad_part02.tif', 'data_crop_merged/train/label/IMG_0812_res_shad_part03.tif', 'data_crop_merged/train/label/IMG_0812_res_shad_part04.tif', 'data_crop_merged/train/label/IMG_0812_res_shad_part05.tif', 'data_crop_merged/train/label/IMG_0812_res_shad_part06.tif', 'data_crop_merged/train/label/IMG_0812_res_shad_part07.tif', 'data_crop_merged/train/label/IMG_0812_res_shad_part08.tif', 'data_crop_merged/train/label/IMG_0812_res_shad_part09.tif', 'data_crop_merged/train/label/IMG_0812_res_shad_part10.tif', 'data_crop_merged/train/label/IMG_0812_res_shad_part11.tif', 'data_crop_merged/train/label/IMG_0812_res_shad_part12.tif', 'data_crop_merged/train/label/IMG_0812_res_shad_part13.tif', 'data_crop_merged/train/label/IMG_0812_res_shad_part14.tif', 'data_crop_merged/train/label/IMG_0812_res_shad_part15.tif', 'data_crop_merged/train/label/IMG_0812_res_shad_part16.tif', 'data_crop_merged/train/label/IMG_0813_res_shad_part01.tif', 'data_crop_merged/train/label/IMG_0813_res_shad_part02.tif', 'data_crop_merged/train/label/IMG_0813_res_shad_part03.tif', 'data_crop_merged/train/label/IMG_0813_res_shad_part04.tif', 'data_crop_merged/train/label/IMG_0813_res_shad_part05.tif', 'data_crop_merged/train/label/IMG_0813_res_shad_part06.tif', 'data_crop_merged/train/label/IMG_0813_res_shad_part07.tif', 'data_crop_merged/train/label/IMG_0813_res_shad_part08.tif', 'data_crop_merged/train/label/IMG_0813_res_shad_part09.tif', 'data_crop_merged/train/label/IMG_0813_res_shad_part10.tif', 'data_crop_merged/train/label/IMG_0813_res_shad_part11.tif', 'data_crop_merged/train/label/IMG_0813_res_shad_part12.tif', 'data_crop_merged/train/label/IMG_0813_res_shad_part13.tif', 'data_crop_merged/train/label/IMG_0813_res_shad_part14.tif', 'data_crop_merged/train/label/IMG_0813_res_shad_part15.tif', 'data_crop_merged/train/label/IMG_0813_res_shad_part16.tif', 'data_crop_merged/train/label/IMG_0814_res_shad_part01.tif', 'data_crop_merged/train/label/IMG_0814_res_shad_part02.tif', 'data_crop_merged/train/label/IMG_0814_res_shad_part03.tif', 'data_crop_merged/train/label/IMG_0814_res_shad_part04.tif', 'data_crop_merged/train/label/IMG_0814_res_shad_part05.tif', 'data_crop_merged/train/label/IMG_0814_res_shad_part06.tif', 'data_crop_merged/train/label/IMG_0814_res_shad_part07.tif', 'data_crop_merged/train/label/IMG_0814_res_shad_part08.tif', 'data_crop_merged/train/label/IMG_0814_res_shad_part09.tif', 'data_crop_merged/train/label/IMG_0814_res_shad_part10.tif', 'data_crop_merged/train/label/IMG_0814_res_shad_part11.tif', 'data_crop_merged/train/label/IMG_0814_res_shad_part12.tif', 'data_crop_merged/train/label/IMG_0814_res_shad_part13.tif', 'data_crop_merged/train/label/IMG_0814_res_shad_part14.tif', 'data_crop_merged/train/label/IMG_0814_res_shad_part15.tif', 'data_crop_merged/train/label/IMG_0814_res_shad_part16.tif', 'data_crop_merged/train/label/IMG_0815_res_shad_part01.tif', 'data_crop_merged/train/label/IMG_0815_res_shad_part02.tif', 'data_crop_merged/train/label/IMG_0815_res_shad_part03.tif', 'data_crop_merged/train/label/IMG_0815_res_shad_part04.tif', 'data_crop_merged/train/label/IMG_0815_res_shad_part05.tif', 'data_crop_merged/train/label/IMG_0815_res_shad_part06.tif', 'data_crop_merged/train/label/IMG_0815_res_shad_part07.tif', 'data_crop_merged/train/label/IMG_0815_res_shad_part08.tif', 'data_crop_merged/train/label/IMG_0815_res_shad_part09.tif', 'data_crop_merged/train/label/IMG_0815_res_shad_part10.tif', 'data_crop_merged/train/label/IMG_0815_res_shad_part11.tif', 'data_crop_merged/train/label/IMG_0815_res_shad_part12.tif', 'data_crop_merged/train/label/IMG_0815_res_shad_part13.tif', 'data_crop_merged/train/label/IMG_0815_res_shad_part14.tif', 'data_crop_merged/train/label/IMG_0815_res_shad_part15.tif', 'data_crop_merged/train/label/IMG_0815_res_shad_part16.tif', 'data_crop_merged/train/label/IMG_0816_res_shad_part01.tif', 'data_crop_merged/train/label/IMG_0816_res_shad_part02.tif', 'data_crop_merged/train/label/IMG_0816_res_shad_part03.tif', 'data_crop_merged/train/label/IMG_0816_res_shad_part04.tif', 'data_crop_merged/train/label/IMG_0816_res_shad_part05.tif', 'data_crop_merged/train/label/IMG_0816_res_shad_part06.tif', 'data_crop_merged/train/label/IMG_0816_res_shad_part07.tif', 'data_crop_merged/train/label/IMG_0816_res_shad_part08.tif', 'data_crop_merged/train/label/IMG_0816_res_shad_part09.tif', 'data_crop_merged/train/label/IMG_0816_res_shad_part10.tif', 'data_crop_merged/train/label/IMG_0816_res_shad_part11.tif', 'data_crop_merged/train/label/IMG_0816_res_shad_part12.tif', 'data_crop_merged/train/label/IMG_0816_res_shad_part13.tif', 'data_crop_merged/train/label/IMG_0816_res_shad_part14.tif', 'data_crop_merged/train/label/IMG_0816_res_shad_part15.tif', 'data_crop_merged/train/label/IMG_0816_res_shad_part16.tif', 'data_crop_merged/train/label/IMG_0889_res_shad_part01.tif', 'data_crop_merged/train/label/IMG_0889_res_shad_part02.tif', 'data_crop_merged/train/label/IMG_0889_res_shad_part03.tif', 'data_crop_merged/train/label/IMG_0889_res_shad_part04.tif', 'data_crop_merged/train/label/IMG_0889_res_shad_part05.tif', 'data_crop_merged/train/label/IMG_0889_res_shad_part06.tif', 'data_crop_merged/train/label/IMG_0889_res_shad_part07.tif', 'data_crop_merged/train/label/IMG_0889_res_shad_part08.tif', 'data_crop_merged/train/label/IMG_0889_res_shad_part09.tif', 'data_crop_merged/train/label/IMG_0889_res_shad_part10.tif', 'data_crop_merged/train/label/IMG_0889_res_shad_part11.tif', 'data_crop_merged/train/label/IMG_0889_res_shad_part12.tif', 'data_crop_merged/train/label/IMG_0889_res_shad_part13.tif', 'data_crop_merged/train/label/IMG_0889_res_shad_part14.tif', 'data_crop_merged/train/label/IMG_0889_res_shad_part15.tif', 'data_crop_merged/train/label/IMG_0889_res_shad_part16.tif', 'data_crop_merged/train/label/IMG_0890_res_shad_part01.tif', 'data_crop_merged/train/label/IMG_0890_res_shad_part02.tif', 'data_crop_merged/train/label/IMG_0890_res_shad_part03.tif', 'data_crop_merged/train/label/IMG_0890_res_shad_part04.tif', 'data_crop_merged/train/label/IMG_0890_res_shad_part05.tif', 'data_crop_merged/train/label/IMG_0890_res_shad_part06.tif', 'data_crop_merged/train/label/IMG_0890_res_shad_part07.tif', 'data_crop_merged/train/label/IMG_0890_res_shad_part08.tif', 'data_crop_merged/train/label/IMG_0890_res_shad_part09.tif', 'data_crop_merged/train/label/IMG_0890_res_shad_part10.tif', 'data_crop_merged/train/label/IMG_0890_res_shad_part11.tif', 'data_crop_merged/train/label/IMG_0890_res_shad_part12.tif', 'data_crop_merged/train/label/IMG_0890_res_shad_part13.tif', 'data_crop_merged/train/label/IMG_0890_res_shad_part14.tif', 'data_crop_merged/train/label/IMG_0890_res_shad_part15.tif', 'data_crop_merged/train/label/IMG_0890_res_shad_part16.tif', 'data_crop_merged/train/label/IMG_0891_res_shad_part01.tif', 'data_crop_merged/train/label/IMG_0891_res_shad_part02.tif', 'data_crop_merged/train/label/IMG_0891_res_shad_part03.tif', 'data_crop_merged/train/label/IMG_0891_res_shad_part04.tif', 'data_crop_merged/train/label/IMG_0891_res_shad_part05.tif', 'data_crop_merged/train/label/IMG_0891_res_shad_part06.tif', 'data_crop_merged/train/label/IMG_0891_res_shad_part07.tif', 'data_crop_merged/train/label/IMG_0891_res_shad_part08.tif', 'data_crop_merged/train/label/IMG_0891_res_shad_part09.tif', 'data_crop_merged/train/label/IMG_0891_res_shad_part10.tif', 'data_crop_merged/train/label/IMG_0891_res_shad_part11.tif', 'data_crop_merged/train/label/IMG_0891_res_shad_part12.tif', 'data_crop_merged/train/label/IMG_0891_res_shad_part13.tif', 'data_crop_merged/train/label/IMG_0891_res_shad_part14.tif', 'data_crop_merged/train/label/IMG_0891_res_shad_part15.tif', 'data_crop_merged/train/label/IMG_0891_res_shad_part16.tif', 'data_crop_merged/train/label/IMG_0892_res_shad_part01.tif', 'data_crop_merged/train/label/IMG_0892_res_shad_part02.tif', 'data_crop_merged/train/label/IMG_0892_res_shad_part03.tif', 'data_crop_merged/train/label/IMG_0892_res_shad_part04.tif', 'data_crop_merged/train/label/IMG_0892_res_shad_part05.tif', 'data_crop_merged/train/label/IMG_0892_res_shad_part06.tif', 'data_crop_merged/train/label/IMG_0892_res_shad_part07.tif', 'data_crop_merged/train/label/IMG_0892_res_shad_part08.tif', 'data_crop_merged/train/label/IMG_0892_res_shad_part09.tif', 'data_crop_merged/train/label/IMG_0892_res_shad_part10.tif', 'data_crop_merged/train/label/IMG_0892_res_shad_part11.tif', 'data_crop_merged/train/label/IMG_0892_res_shad_part12.tif', 'data_crop_merged/train/label/IMG_0892_res_shad_part13.tif', 'data_crop_merged/train/label/IMG_0892_res_shad_part14.tif', 'data_crop_merged/train/label/IMG_0892_res_shad_part15.tif', 'data_crop_merged/train/label/IMG_0892_res_shad_part16.tif', 'data_crop_merged/train/label/IMG_0893_res_shad_part01.tif', 'data_crop_merged/train/label/IMG_0893_res_shad_part02.tif', 'data_crop_merged/train/label/IMG_0893_res_shad_part03.tif', 'data_crop_merged/train/label/IMG_0893_res_shad_part04.tif', 'data_crop_merged/train/label/IMG_0893_res_shad_part05.tif', 'data_crop_merged/train/label/IMG_0893_res_shad_part06.tif', 'data_crop_merged/train/label/IMG_0893_res_shad_part07.tif', 'data_crop_merged/train/label/IMG_0893_res_shad_part08.tif', 'data_crop_merged/train/label/IMG_0893_res_shad_part09.tif', 'data_crop_merged/train/label/IMG_0893_res_shad_part10.tif', 'data_crop_merged/train/label/IMG_0893_res_shad_part11.tif', 'data_crop_merged/train/label/IMG_0893_res_shad_part12.tif', 'data_crop_merged/train/label/IMG_0893_res_shad_part13.tif', 'data_crop_merged/train/label/IMG_0893_res_shad_part14.tif', 'data_crop_merged/train/label/IMG_0893_res_shad_part15.tif', 'data_crop_merged/train/label/IMG_0893_res_shad_part16.tif', 'data_crop_merged/train/label/IMG_0895_res_shad_part01.tif', 'data_crop_merged/train/label/IMG_0895_res_shad_part02.tif', 'data_crop_merged/train/label/IMG_0895_res_shad_part03.tif', 'data_crop_merged/train/label/IMG_0895_res_shad_part04.tif', 'data_crop_merged/train/label/IMG_0895_res_shad_part05.tif', 'data_crop_merged/train/label/IMG_0895_res_shad_part06.tif', 'data_crop_merged/train/label/IMG_0895_res_shad_part07.tif', 'data_crop_merged/train/label/IMG_0895_res_shad_part08.tif', 'data_crop_merged/train/label/IMG_0895_res_shad_part09.tif', 'data_crop_merged/train/label/IMG_0895_res_shad_part10.tif', 'data_crop_merged/train/label/IMG_0895_res_shad_part11.tif', 'data_crop_merged/train/label/IMG_0895_res_shad_part12.tif', 'data_crop_merged/train/label/IMG_0895_res_shad_part13.tif', 'data_crop_merged/train/label/IMG_0895_res_shad_part14.tif', 'data_crop_merged/train/label/IMG_0895_res_shad_part15.tif', 'data_crop_merged/train/label/IMG_0895_res_shad_part16.tif', 'data_crop_merged/train/label/IMG_0896_res_shad_part01.tif', 'data_crop_merged/train/label/IMG_0896_res_shad_part02.tif', 'data_crop_merged/train/label/IMG_0896_res_shad_part03.tif', 'data_crop_merged/train/label/IMG_0896_res_shad_part04.tif', 'data_crop_merged/train/label/IMG_0896_res_shad_part05.tif', 'data_crop_merged/train/label/IMG_0896_res_shad_part06.tif', 'data_crop_merged/train/label/IMG_0896_res_shad_part07.tif', 'data_crop_merged/train/label/IMG_0896_res_shad_part08.tif', 'data_crop_merged/train/label/IMG_0896_res_shad_part09.tif', 'data_crop_merged/train/label/IMG_0896_res_shad_part10.tif', 'data_crop_merged/train/label/IMG_0896_res_shad_part11.tif', 'data_crop_merged/train/label/IMG_0896_res_shad_part12.tif', 'data_crop_merged/train/label/IMG_0896_res_shad_part13.tif', 'data_crop_merged/train/label/IMG_0896_res_shad_part14.tif', 'data_crop_merged/train/label/IMG_0896_res_shad_part15.tif', 'data_crop_merged/train/label/IMG_0896_res_shad_part16.tif', 'data_crop_merged/train/label/IMG_0897_res_shad_part01.tif', 'data_crop_merged/train/label/IMG_0897_res_shad_part02.tif', 'data_crop_merged/train/label/IMG_0897_res_shad_part03.tif', 'data_crop_merged/train/label/IMG_0897_res_shad_part04.tif', 'data_crop_merged/train/label/IMG_0897_res_shad_part05.tif', 'data_crop_merged/train/label/IMG_0897_res_shad_part06.tif', 'data_crop_merged/train/label/IMG_0897_res_shad_part07.tif', 'data_crop_merged/train/label/IMG_0897_res_shad_part08.tif', 'data_crop_merged/train/label/IMG_0897_res_shad_part09.tif', 'data_crop_merged/train/label/IMG_0897_res_shad_part10.tif', 'data_crop_merged/train/label/IMG_0897_res_shad_part11.tif', 'data_crop_merged/train/label/IMG_0897_res_shad_part12.tif', 'data_crop_merged/train/label/IMG_0897_res_shad_part13.tif', 'data_crop_merged/train/label/IMG_0897_res_shad_part14.tif', 'data_crop_merged/train/label/IMG_0897_res_shad_part15.tif', 'data_crop_merged/train/label/IMG_0897_res_shad_part16.tif', 'data_crop_merged/train/label/IMG_0898_res_shad_part01.tif', 'data_crop_merged/train/label/IMG_0898_res_shad_part02.tif', 'data_crop_merged/train/label/IMG_0898_res_shad_part03.tif', 'data_crop_merged/train/label/IMG_0898_res_shad_part04.tif', 'data_crop_merged/train/label/IMG_0898_res_shad_part05.tif', 'data_crop_merged/train/label/IMG_0898_res_shad_part06.tif', 'data_crop_merged/train/label/IMG_0898_res_shad_part07.tif', 'data_crop_merged/train/label/IMG_0898_res_shad_part08.tif', 'data_crop_merged/train/label/IMG_0898_res_shad_part09.tif', 'data_crop_merged/train/label/IMG_0898_res_shad_part10.tif', 'data_crop_merged/train/label/IMG_0898_res_shad_part11.tif', 'data_crop_merged/train/label/IMG_0898_res_shad_part12.tif', 'data_crop_merged/train/label/IMG_0898_res_shad_part13.tif', 'data_crop_merged/train/label/IMG_0898_res_shad_part14.tif', 'data_crop_merged/train/label/IMG_0898_res_shad_part15.tif', 'data_crop_merged/train/label/IMG_0898_res_shad_part16.tif', 'data_crop_merged/train/label/IMG_0937_res_shad_part01.tif', 'data_crop_merged/train/label/IMG_0937_res_shad_part02.tif', 'data_crop_merged/train/label/IMG_0937_res_shad_part03.tif', 'data_crop_merged/train/label/IMG_0937_res_shad_part04.tif', 'data_crop_merged/train/label/IMG_0937_res_shad_part05.tif', 'data_crop_merged/train/label/IMG_0937_res_shad_part06.tif', 'data_crop_merged/train/label/IMG_0937_res_shad_part07.tif', 'data_crop_merged/train/label/IMG_0937_res_shad_part08.tif', 'data_crop_merged/train/label/IMG_0937_res_shad_part09.tif', 'data_crop_merged/train/label/IMG_0937_res_shad_part10.tif', 'data_crop_merged/train/label/IMG_0937_res_shad_part11.tif', 'data_crop_merged/train/label/IMG_0937_res_shad_part12.tif', 'data_crop_merged/train/label/IMG_0937_res_shad_part13.tif', 'data_crop_merged/train/label/IMG_0937_res_shad_part14.tif', 'data_crop_merged/train/label/IMG_0937_res_shad_part15.tif', 'data_crop_merged/train/label/IMG_0937_res_shad_part16.tif', 'data_crop_merged/train/label/IMG_0938_res_shad_part01.tif', 'data_crop_merged/train/label/IMG_0938_res_shad_part02.tif', 'data_crop_merged/train/label/IMG_0938_res_shad_part03.tif', 'data_crop_merged/train/label/IMG_0938_res_shad_part04.tif', 'data_crop_merged/train/label/IMG_0938_res_shad_part05.tif', 'data_crop_merged/train/label/IMG_0938_res_shad_part06.tif', 'data_crop_merged/train/label/IMG_0938_res_shad_part07.tif', 'data_crop_merged/train/label/IMG_0938_res_shad_part08.tif', 'data_crop_merged/train/label/IMG_0938_res_shad_part09.tif', 'data_crop_merged/train/label/IMG_0938_res_shad_part10.tif', 'data_crop_merged/train/label/IMG_0938_res_shad_part11.tif', 'data_crop_merged/train/label/IMG_0938_res_shad_part12.tif', 'data_crop_merged/train/label/IMG_0938_res_shad_part13.tif', 'data_crop_merged/train/label/IMG_0938_res_shad_part14.tif', 'data_crop_merged/train/label/IMG_0938_res_shad_part15.tif', 'data_crop_merged/train/label/IMG_0938_res_shad_part16.tif', 'data_crop_merged/train/label/IMG_0939_res_shad_part01.tif', 'data_crop_merged/train/label/IMG_0939_res_shad_part02.tif', 'data_crop_merged/train/label/IMG_0939_res_shad_part03.tif', 'data_crop_merged/train/label/IMG_0939_res_shad_part04.tif', 'data_crop_merged/train/label/IMG_0939_res_shad_part05.tif', 'data_crop_merged/train/label/IMG_0939_res_shad_part06.tif', 'data_crop_merged/train/label/IMG_0939_res_shad_part07.tif', 'data_crop_merged/train/label/IMG_0939_res_shad_part08.tif', 'data_crop_merged/train/label/IMG_0939_res_shad_part09.tif', 'data_crop_merged/train/label/IMG_0939_res_shad_part10.tif', 'data_crop_merged/train/label/IMG_0939_res_shad_part11.tif', 'data_crop_merged/train/label/IMG_0939_res_shad_part12.tif', 'data_crop_merged/train/label/IMG_0939_res_shad_part13.tif', 'data_crop_merged/train/label/IMG_0939_res_shad_part14.tif', 'data_crop_merged/train/label/IMG_0939_res_shad_part15.tif', 'data_crop_merged/train/label/IMG_0939_res_shad_part16.tif', 'data_crop_merged/train/label/IMG_0940_res_shad_part01.tif', 'data_crop_merged/train/label/IMG_0940_res_shad_part02.tif', 'data_crop_merged/train/label/IMG_0940_res_shad_part03.tif', 'data_crop_merged/train/label/IMG_0940_res_shad_part04.tif', 'data_crop_merged/train/label/IMG_0940_res_shad_part05.tif', 'data_crop_merged/train/label/IMG_0940_res_shad_part06.tif', 'data_crop_merged/train/label/IMG_0940_res_shad_part07.tif', 'data_crop_merged/train/label/IMG_0940_res_shad_part08.tif', 'data_crop_merged/train/label/IMG_0940_res_shad_part09.tif', 'data_crop_merged/train/label/IMG_0940_res_shad_part10.tif', 'data_crop_merged/train/label/IMG_0940_res_shad_part11.tif', 'data_crop_merged/train/label/IMG_0940_res_shad_part12.tif', 'data_crop_merged/train/label/IMG_0940_res_shad_part13.tif', 'data_crop_merged/train/label/IMG_0940_res_shad_part14.tif', 'data_crop_merged/train/label/IMG_0940_res_shad_part15.tif', 'data_crop_merged/train/label/IMG_0940_res_shad_part16.tif', 'data_crop_merged/train/label/IMG_0941_res_shad_part01.tif', 'data_crop_merged/train/label/IMG_0941_res_shad_part02.tif', 'data_crop_merged/train/label/IMG_0941_res_shad_part03.tif', 'data_crop_merged/train/label/IMG_0941_res_shad_part04.tif', 'data_crop_merged/train/label/IMG_0941_res_shad_part05.tif', 'data_crop_merged/train/label/IMG_0941_res_shad_part06.tif', 'data_crop_merged/train/label/IMG_0941_res_shad_part07.tif', 'data_crop_merged/train/label/IMG_0941_res_shad_part08.tif', 'data_crop_merged/train/label/IMG_0941_res_shad_part09.tif', 'data_crop_merged/train/label/IMG_0941_res_shad_part10.tif', 'data_crop_merged/train/label/IMG_0941_res_shad_part11.tif', 'data_crop_merged/train/label/IMG_0941_res_shad_part12.tif', 'data_crop_merged/train/label/IMG_0941_res_shad_part13.tif', 'data_crop_merged/train/label/IMG_0941_res_shad_part14.tif', 'data_crop_merged/train/label/IMG_0941_res_shad_part15.tif', 'data_crop_merged/train/label/IMG_0941_res_shad_part16.tif', 'data_crop_merged/train/label/IMG_0942_res_shad_part01.tif', 'data_crop_merged/train/label/IMG_0942_res_shad_part02.tif', 'data_crop_merged/train/label/IMG_0942_res_shad_part03.tif', 'data_crop_merged/train/label/IMG_0942_res_shad_part04.tif', 'data_crop_merged/train/label/IMG_0942_res_shad_part05.tif', 'data_crop_merged/train/label/IMG_0942_res_shad_part06.tif', 'data_crop_merged/train/label/IMG_0942_res_shad_part07.tif', 'data_crop_merged/train/label/IMG_0942_res_shad_part08.tif', 'data_crop_merged/train/label/IMG_0942_res_shad_part09.tif', 'data_crop_merged/train/label/IMG_0942_res_shad_part10.tif', 'data_crop_merged/train/label/IMG_0942_res_shad_part11.tif', 'data_crop_merged/train/label/IMG_0942_res_shad_part12.tif', 'data_crop_merged/train/label/IMG_0942_res_shad_part13.tif', 'data_crop_merged/train/label/IMG_0942_res_shad_part14.tif', 'data_crop_merged/train/label/IMG_0942_res_shad_part15.tif', 'data_crop_merged/train/label/IMG_0942_res_shad_part16.tif', 'data_crop_merged/train/label/IMG_0944_res_shad_part01.tif', 'data_crop_merged/train/label/IMG_0944_res_shad_part02.tif', 'data_crop_merged/train/label/IMG_0944_res_shad_part03.tif', 'data_crop_merged/train/label/IMG_0944_res_shad_part04.tif', 'data_crop_merged/train/label/IMG_0944_res_shad_part05.tif', 'data_crop_merged/train/label/IMG_0944_res_shad_part06.tif', 'data_crop_merged/train/label/IMG_0944_res_shad_part07.tif', 'data_crop_merged/train/label/IMG_0944_res_shad_part08.tif', 'data_crop_merged/train/label/IMG_0944_res_shad_part09.tif', 'data_crop_merged/train/label/IMG_0944_res_shad_part10.tif', 'data_crop_merged/train/label/IMG_0944_res_shad_part11.tif', 'data_crop_merged/train/label/IMG_0944_res_shad_part12.tif', 'data_crop_merged/train/label/IMG_0944_res_shad_part13.tif', 'data_crop_merged/train/label/IMG_0944_res_shad_part14.tif', 'data_crop_merged/train/label/IMG_0944_res_shad_part15.tif', 'data_crop_merged/train/label/IMG_0944_res_shad_part16.tif', 'data_crop_merged/train/label/IMG_0945_res_shad_part01.tif', 'data_crop_merged/train/label/IMG_0945_res_shad_part02.tif', 'data_crop_merged/train/label/IMG_0945_res_shad_part03.tif', 'data_crop_merged/train/label/IMG_0945_res_shad_part04.tif', 'data_crop_merged/train/label/IMG_0945_res_shad_part05.tif', 'data_crop_merged/train/label/IMG_0945_res_shad_part06.tif', 'data_crop_merged/train/label/IMG_0945_res_shad_part07.tif', 'data_crop_merged/train/label/IMG_0945_res_shad_part08.tif', 'data_crop_merged/train/label/IMG_0945_res_shad_part09.tif', 'data_crop_merged/train/label/IMG_0945_res_shad_part10.tif', 'data_crop_merged/train/label/IMG_0945_res_shad_part11.tif', 'data_crop_merged/train/label/IMG_0945_res_shad_part12.tif', 'data_crop_merged/train/label/IMG_0945_res_shad_part13.tif', 'data_crop_merged/train/label/IMG_0945_res_shad_part14.tif', 'data_crop_merged/train/label/IMG_0945_res_shad_part15.tif', 'data_crop_merged/train/label/IMG_0945_res_shad_part16.tif', 'data_crop_merged/train/label/IMG_0946_res_shad_part01.tif', 'data_crop_merged/train/label/IMG_0946_res_shad_part02.tif', 'data_crop_merged/train/label/IMG_0946_res_shad_part03.tif', 'data_crop_merged/train/label/IMG_0946_res_shad_part04.tif', 'data_crop_merged/train/label/IMG_0946_res_shad_part05.tif', 'data_crop_merged/train/label/IMG_0946_res_shad_part06.tif', 'data_crop_merged/train/label/IMG_0946_res_shad_part07.tif', 'data_crop_merged/train/label/IMG_0946_res_shad_part08.tif', 'data_crop_merged/train/label/IMG_0946_res_shad_part09.tif', 'data_crop_merged/train/label/IMG_0946_res_shad_part10.tif', 'data_crop_merged/train/label/IMG_0946_res_shad_part11.tif', 'data_crop_merged/train/label/IMG_0946_res_shad_part12.tif', 'data_crop_merged/train/label/IMG_0946_res_shad_part13.tif', 'data_crop_merged/train/label/IMG_0946_res_shad_part14.tif', 'data_crop_merged/train/label/IMG_0946_res_shad_part15.tif', 'data_crop_merged/train/label/IMG_0946_res_shad_part16.tif']\n"
     ]
    }
   ],
   "source": [
    "# your images can of course have a different extension\n",
    "# semantic segmentation maps are typically stored in the png format\n",
    "# image_paths_train = [\"path/to/image_1.jpg/jpg\", \"path/to/image_2.jpg/jpg\", ..., \"path/to/image_n.jpg/jpg\"]\n",
    "# label_paths_train = [\"path/to/annotation_1.png\", \"path/to/annotation_2.png\", ..., \"path/to/annotation_n.png\"]\n",
    "print(label_paths_train)"
   ]
  },
  {
   "cell_type": "code",
   "execution_count": 113,
   "id": "c73713a1-5ac6-4cd0-99ad-168fb2353219",
   "metadata": {},
   "outputs": [],
   "source": [
    "# same for validation\n",
    "# image_paths_validation = [...]\n",
    "# label_paths_validation = [...]\n",
    "\n",
    "def create_dataset(image_paths, label_paths):\n",
    "    dataset = Dataset.from_dict({\"image\": sorted(image_paths),\n",
    "                                \"label\": sorted(label_paths)})\n",
    "    dataset = dataset.cast_column(\"image\", Image())\n",
    "    dataset = dataset.cast_column(\"label\", Image())\n",
    "\n",
    "    return dataset"
   ]
  },
  {
   "cell_type": "code",
   "execution_count": 114,
   "id": "a1bc4f36-d3d3-4d16-a612-93bf9c55523d",
   "metadata": {},
   "outputs": [],
   "source": [
    "# step 1: create Dataset objects\n",
    "dataset = create_dataset(image_paths_train, label_paths_train)\n",
    "# splits = dataset.train_test_split(test_size=0.2, seed=42)\n",
    "# train_dataset = splits[\"train\"]\n",
    "# validation_dataset = splits[\"test\"] "
   ]
  },
  {
   "cell_type": "code",
   "execution_count": 115,
   "id": "b3679c4b-d154-45f7-a79c-f6376661ac4a",
   "metadata": {},
   "outputs": [],
   "source": [
    "\n",
    "\n",
    "\n",
    "# step 2: create DatasetDict\n",
    "dataset = DatasetDict({\n",
    "    \"train\": dataset,\n",
    "    # \"validation\": validation_dataset,\n",
    "  }\n",
    ")"
   ]
  },
  {
   "cell_type": "code",
   "execution_count": 117,
   "id": "6b87032a-5926-44b1-b19a-b6fddfcfa98e",
   "metadata": {},
   "outputs": [
    {
     "data": {
      "application/vnd.jupyter.widget-view+json": {
       "model_id": "30a059a4a1bc4537bb656b6a72ebbbd9",
       "version_major": 2,
       "version_minor": 0
      },
      "text/plain": [
       "Uploading the dataset shards:   0%|          | 0/1 [00:00<?, ?it/s]"
      ]
     },
     "metadata": {},
     "output_type": "display_data"
    },
    {
     "data": {
      "application/vnd.jupyter.widget-view+json": {
       "model_id": "7a66ae9bf5c543d298c033cb25d1835e",
       "version_major": 2,
       "version_minor": 0
      },
      "text/plain": [
       "Map:   0%|          | 0/688 [00:00<?, ? examples/s]"
      ]
     },
     "metadata": {},
     "output_type": "display_data"
    },
    {
     "data": {
      "application/vnd.jupyter.widget-view+json": {
       "model_id": "c73cbae115cb4d86abb4fb24fa8a44b1",
       "version_major": 2,
       "version_minor": 0
      },
      "text/plain": [
       "Creating parquet from Arrow format:   0%|          | 0/7 [00:00<?, ?ba/s]"
      ]
     },
     "metadata": {},
     "output_type": "display_data"
    },
    {
     "data": {
      "text/plain": [
       "CommitInfo(commit_url='https://huggingface.co/datasets/Sowmith1999/agaid_residue_and_shad/commit/1a81a133642d80c6beb6602054a68af6178d679a', commit_message='Upload dataset', commit_description='', oid='1a81a133642d80c6beb6602054a68af6178d679a', pr_url=None, repo_url=RepoUrl('https://huggingface.co/datasets/Sowmith1999/agaid_residue_and_shad', endpoint='https://huggingface.co', repo_type='dataset', repo_id='Sowmith1999/agaid_residue_and_shad'), pr_revision=None, pr_num=None)"
      ]
     },
     "execution_count": 117,
     "metadata": {},
     "output_type": "execute_result"
    }
   ],
   "source": [
    "# step 3: push to hub (assumes you have ran the huggingface-cli login command in a terminal/notebook)\n",
    "dataset.push_to_hub(\"agaid_residue_and_shad\")\n",
    "\n",
    "# optionally, you can push to a private repo on the hub\n",
    "# dataset.push_to_hub(\"name of repo on the hub\", private=True)"
   ]
  },
  {
   "cell_type": "code",
   "execution_count": 6,
   "id": "e242206c-fe99-439a-822c-98c2bfa50cff",
   "metadata": {},
   "outputs": [],
   "source": []
  },
  {
   "cell_type": "code",
   "execution_count": 101,
   "id": "40e158af-e769-47d9-9e1b-86814e7285fc",
   "metadata": {},
   "outputs": [
    {
     "name": "stdout",
     "output_type": "stream",
     "text": [
      "data_crop_merged/train/shad_label/IMG_0630_sunshad_part12.tif\n"
     ]
    }
   ],
   "source": [
    "print(shad_label_paths_train[27])"
   ]
  },
  {
   "cell_type": "code",
   "execution_count": 116,
   "id": "227998f4-4837-4a9e-84d0-af699d7fa48c",
   "metadata": {},
   "outputs": [
    {
     "name": "stdout",
     "output_type": "stream",
     "text": [
      "Mask shape: (512, 512)\n",
      "[[3 3 3 ... 3 3 3]\n",
      " [3 3 3 ... 3 3 3]\n",
      " [3 3 3 ... 3 3 3]\n",
      " ...\n",
      " [4 4 4 ... 3 3 3]\n",
      " [4 4 4 ... 3 3 3]\n",
      " [4 4 4 ... 3 3 3]]\n",
      "Unique values: [1 2 3 4]\n"
     ]
    }
   ],
   "source": [
    "\n",
    "example_mask_path = label_paths_train[45]\n",
    "with pil_image.open(example_mask_path) as pil_new_mask:\n",
    "    np_mask = np.array(pil_new_mask)\n",
    "    print(\"Mask shape:\", np_mask.shape)\n",
    "    print(np_mask)\n",
    "    np.savetxt(\"label_mask.csv\", np_mask, delimiter=\",\", fmt=\"%d\")\n",
    "    print(\"Unique values:\", np.unique(np_mask))\n",
    "    # mask = np.array(img)\n",
    "    # mask[mask == 255] = 1\n",
    "    # # Create a new PIL image and save\n",
    "    # mask_binary = PIL.Image.fromarray(mask)\n",
    "    # mask_binary.save(\"./new_mask.tif\")\n"
   ]
  },
  {
   "cell_type": "code",
   "execution_count": 28,
   "id": "a3b03636-95fc-4b06-83ca-eff3703dbce4",
   "metadata": {},
   "outputs": [
    {
     "name": "stdout",
     "output_type": "stream",
     "text": [
      "data_crop_merged/train/res_label/IMG_0629_res_part01.tif\n"
     ]
    }
   ],
   "source": [
    "res_label_path = res_label_paths_train[0]\n",
    "shad_label_path = shad_label_paths_train[0]\n",
    "print(res_label_path)"
   ]
  },
  {
   "cell_type": "code",
   "execution_count": 27,
   "id": "d4b9da53-2e38-455c-a3de-df255139470d",
   "metadata": {},
   "outputs": [
    {
     "data": {
      "text/plain": [
       "'data_crop_merged/train/label/IMG_0629_res_shad_part01.tif'"
      ]
     },
     "execution_count": 27,
     "metadata": {},
     "output_type": "execute_result"
    }
   ],
   "source": [
    "path_parts = res_label_path.split(\"/\")\n",
    "path_parts[-1] = path_parts[-1].replace(\"res\",\"res_shad\")\n",
    "path_parts[-2] = path_parts[-2].replace(\"res_\", \"\")\n",
    "\"/\".join(path_parts)"
   ]
  },
  {
   "cell_type": "code",
   "execution_count": 29,
   "id": "8a3b7932-d92c-4267-8168-d37035260091",
   "metadata": {},
   "outputs": [],
   "source": [
    "\n",
    "with pil_image.open(res_label_path) as res_mask_img:\n",
    "    with pil_image.open(shad_label_path) as shad_mask_img:\n",
    "        res_mask = np.array(res_mask_img)\n",
    "        shad_mask = np.array(shad_mask_img)\n",
    "\n",
    "        res_mask[res_mask == 255] = 1 # residue is 1 and soil is 0\n",
    "        shad_mask[shad_mask == 255] = 1 # shaded is 1 and sunlit is 0\n",
    "        new_mask = np.zeros_like(res_mask, dtype=np.uint8)\n",
    "        \n",
    "        # residue and sunlit\n",
    "        new_mask[(res_mask == 1) & (shad_mask == 0)] = 1\n",
    "        \n",
    "        # residue and shaded\n",
    "        new_mask[(res_mask == 1) & (shad_mask == 1)] = 2\n",
    "        \n",
    "        # background and sunlit\n",
    "        new_mask[(res_mask == 0) & (shad_mask == 0)] = 3\n",
    "        \n",
    "        # background and shaded\n",
    "        new_mask[(res_mask == 0) & (shad_mask == 1)] = 4\n",
    "        # Create a new PIL image and save\n",
    "        path_parts = res_label_path.split(\"/\")\n",
    "        path_parts[-1] = path_parts[-1].replace(\"res\",\"res_shad\")\n",
    "        path_parts[-2] = path_parts[-2].replace(\"res_\", \"\")\n",
    "        \"/\".join(path_parts)\n",
    "        mask_binary = PIL.Image.fromarray(new_mask)\n",
    "        # file_path = res_label_path.name()\n",
    "        mask_binary.save(\"./merged_tif.tif\")"
   ]
  }
 ],
 "metadata": {
  "kernelspec": {
   "display_name": "Python 3 (ipykernel)",
   "language": "python",
   "name": "python3"
  },
  "language_info": {
   "codemirror_mode": {
    "name": "ipython",
    "version": 3
   },
   "file_extension": ".py",
   "mimetype": "text/x-python",
   "name": "python",
   "nbconvert_exporter": "python",
   "pygments_lexer": "ipython3",
   "version": "3.11.11"
  }
 },
 "nbformat": 4,
 "nbformat_minor": 5
}
