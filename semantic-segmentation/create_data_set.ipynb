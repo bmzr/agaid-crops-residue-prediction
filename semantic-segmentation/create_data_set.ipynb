{
 "cells": [
  {
   "cell_type": "code",
   "execution_count": 32,
   "id": "1bf08791-08c2-495f-b97b-447994d3071d",
   "metadata": {},
   "outputs": [
    {
     "data": {
      "application/vnd.jupyter.widget-view+json": {
       "model_id": "41bba4ff6d364b0baaf54d37a7c6bd9f",
       "version_major": 2,
       "version_minor": 0
      },
      "text/plain": [
       "VBox(children=(HTML(value='<center> <img\\nsrc=https://huggingface.co/front/assets/huggingface_logo-noborder.sv…"
      ]
     },
     "metadata": {},
     "output_type": "display_data"
    }
   ],
   "source": [
    "from huggingface_hub import notebook_login\n",
    "notebook_login()"
   ]
  },
  {
   "cell_type": "code",
   "execution_count": 33,
   "id": "074f9b02-7ae8-4700-bdcb-1c17f8e6fbe1",
   "metadata": {},
   "outputs": [],
   "source": [
    "from datasets import Dataset, DatasetDict, Image\n",
    "from pathlib import Path\n",
    "import os"
   ]
  },
  {
   "cell_type": "code",
   "execution_count": 44,
   "id": "dc921843-5a20-4096-9ded-b21d2f2be0ef",
   "metadata": {},
   "outputs": [],
   "source": [
    "image_folder_train = Path(\"data_crop_residue_only/train/image\")\n",
    "label_folder_train = Path(\"data_crop_residue_only/train/label\")\n",
    "image_paths_train = [str(file) for file in image_folder_train.iterdir() if file.is_file()]\n",
    "label_paths_train = [str(file) for file in label_folder_train.iterdir() if file.is_file()]"
   ]
  },
  {
   "cell_type": "code",
   "execution_count": 45,
   "id": "e9f22969-0353-4d88-b9fb-bcb78f22aea4",
   "metadata": {},
   "outputs": [],
   "source": [
    "from PIL import Image as pil_image\n",
    "for file_path in label_paths_train:\n",
    "    with pil_image.open(file_path) as pil_mask:\n",
    "        mask = np.array(pil_mask)\n",
    "        # print(\"Mask shape:\", mask.shape)\n",
    "        # print(mask)\n",
    "        # np.savetxt(\"mask.csv\", np_mask, delimiter=\",\", fmt=\"%d\")\n",
    "        # print(\"Unique values:\", np.unique(mask))\n",
    "        # mask = np.array(img)\n",
    "        mask[mask == 255] = 1\n",
    "        # Create a new PIL image and save\n",
    "        mask_binary = pil_image.fromarray(mask)\n",
    "        mask_binary.save(file_path)\n"
   ]
  },
  {
   "cell_type": "code",
   "execution_count": 47,
   "id": "2beee788-7fbe-4387-8dcc-f62689c3a4d8",
   "metadata": {},
   "outputs": [
    {
     "name": "stdout",
     "output_type": "stream",
     "text": [
      "['data_crop_residue_only/train/label/IMG_0629_res_part01.tif', 'data_crop_residue_only/train/label/IMG_0629_res_part02.tif', 'data_crop_residue_only/train/label/IMG_0629_res_part03.tif', 'data_crop_residue_only/train/label/IMG_0629_res_part04.tif', 'data_crop_residue_only/train/label/IMG_0629_res_part05.tif', 'data_crop_residue_only/train/label/IMG_0629_res_part06.tif', 'data_crop_residue_only/train/label/IMG_0629_res_part07.tif', 'data_crop_residue_only/train/label/IMG_0629_res_part08.tif', 'data_crop_residue_only/train/label/IMG_0629_res_part09.tif', 'data_crop_residue_only/train/label/IMG_0629_res_part10.tif', 'data_crop_residue_only/train/label/IMG_0629_res_part11.tif', 'data_crop_residue_only/train/label/IMG_0629_res_part12.tif', 'data_crop_residue_only/train/label/IMG_0629_res_part13.tif', 'data_crop_residue_only/train/label/IMG_0629_res_part14.tif', 'data_crop_residue_only/train/label/IMG_0629_res_part15.tif', 'data_crop_residue_only/train/label/IMG_0629_res_part16.tif', 'data_crop_residue_only/train/label/IMG_0630_res_part01.tif', 'data_crop_residue_only/train/label/IMG_0630_res_part02.tif', 'data_crop_residue_only/train/label/IMG_0630_res_part03.tif', 'data_crop_residue_only/train/label/IMG_0630_res_part04.tif', 'data_crop_residue_only/train/label/IMG_0630_res_part05.tif', 'data_crop_residue_only/train/label/IMG_0630_res_part06.tif', 'data_crop_residue_only/train/label/IMG_0630_res_part07.tif', 'data_crop_residue_only/train/label/IMG_0630_res_part08.tif', 'data_crop_residue_only/train/label/IMG_0630_res_part09.tif', 'data_crop_residue_only/train/label/IMG_0630_res_part10.tif', 'data_crop_residue_only/train/label/IMG_0630_res_part11.tif', 'data_crop_residue_only/train/label/IMG_0630_res_part12.tif', 'data_crop_residue_only/train/label/IMG_0630_res_part13.tif', 'data_crop_residue_only/train/label/IMG_0630_res_part14.tif', 'data_crop_residue_only/train/label/IMG_0630_res_part15.tif', 'data_crop_residue_only/train/label/IMG_0630_res_part16.tif', 'data_crop_residue_only/train/label/IMG_0631_res_part01.tif', 'data_crop_residue_only/train/label/IMG_0631_res_part02.tif', 'data_crop_residue_only/train/label/IMG_0631_res_part03.tif', 'data_crop_residue_only/train/label/IMG_0631_res_part04.tif', 'data_crop_residue_only/train/label/IMG_0631_res_part05.tif', 'data_crop_residue_only/train/label/IMG_0631_res_part06.tif', 'data_crop_residue_only/train/label/IMG_0631_res_part07.tif', 'data_crop_residue_only/train/label/IMG_0631_res_part08.tif', 'data_crop_residue_only/train/label/IMG_0631_res_part09.tif', 'data_crop_residue_only/train/label/IMG_0631_res_part10.tif', 'data_crop_residue_only/train/label/IMG_0631_res_part11.tif', 'data_crop_residue_only/train/label/IMG_0631_res_part12.tif', 'data_crop_residue_only/train/label/IMG_0631_res_part13.tif', 'data_crop_residue_only/train/label/IMG_0631_res_part14.tif', 'data_crop_residue_only/train/label/IMG_0631_res_part15.tif', 'data_crop_residue_only/train/label/IMG_0631_res_part16.tif', 'data_crop_residue_only/train/label/IMG_0632_res_part01.tif', 'data_crop_residue_only/train/label/IMG_0632_res_part02.tif', 'data_crop_residue_only/train/label/IMG_0632_res_part03.tif', 'data_crop_residue_only/train/label/IMG_0632_res_part04.tif', 'data_crop_residue_only/train/label/IMG_0632_res_part05.tif', 'data_crop_residue_only/train/label/IMG_0632_res_part06.tif', 'data_crop_residue_only/train/label/IMG_0632_res_part07.tif', 'data_crop_residue_only/train/label/IMG_0632_res_part08.tif', 'data_crop_residue_only/train/label/IMG_0632_res_part09.tif', 'data_crop_residue_only/train/label/IMG_0632_res_part10.tif', 'data_crop_residue_only/train/label/IMG_0632_res_part11.tif', 'data_crop_residue_only/train/label/IMG_0632_res_part12.tif', 'data_crop_residue_only/train/label/IMG_0632_res_part13.tif', 'data_crop_residue_only/train/label/IMG_0632_res_part14.tif', 'data_crop_residue_only/train/label/IMG_0632_res_part15.tif', 'data_crop_residue_only/train/label/IMG_0632_res_part16.tif', 'data_crop_residue_only/train/label/IMG_0633_res_part01.tif', 'data_crop_residue_only/train/label/IMG_0633_res_part02.tif', 'data_crop_residue_only/train/label/IMG_0633_res_part03.tif', 'data_crop_residue_only/train/label/IMG_0633_res_part04.tif', 'data_crop_residue_only/train/label/IMG_0633_res_part05.tif', 'data_crop_residue_only/train/label/IMG_0633_res_part06.tif', 'data_crop_residue_only/train/label/IMG_0633_res_part07.tif', 'data_crop_residue_only/train/label/IMG_0633_res_part08.tif', 'data_crop_residue_only/train/label/IMG_0633_res_part09.tif', 'data_crop_residue_only/train/label/IMG_0633_res_part10.tif', 'data_crop_residue_only/train/label/IMG_0633_res_part11.tif', 'data_crop_residue_only/train/label/IMG_0633_res_part12.tif', 'data_crop_residue_only/train/label/IMG_0633_res_part13.tif', 'data_crop_residue_only/train/label/IMG_0633_res_part14.tif', 'data_crop_residue_only/train/label/IMG_0633_res_part15.tif', 'data_crop_residue_only/train/label/IMG_0633_res_part16.tif', 'data_crop_residue_only/train/label/IMG_0635_res_part01.tif', 'data_crop_residue_only/train/label/IMG_0635_res_part02.tif', 'data_crop_residue_only/train/label/IMG_0635_res_part03.tif', 'data_crop_residue_only/train/label/IMG_0635_res_part04.tif', 'data_crop_residue_only/train/label/IMG_0635_res_part05.tif', 'data_crop_residue_only/train/label/IMG_0635_res_part06.tif', 'data_crop_residue_only/train/label/IMG_0635_res_part07.tif', 'data_crop_residue_only/train/label/IMG_0635_res_part08.tif', 'data_crop_residue_only/train/label/IMG_0635_res_part09.tif', 'data_crop_residue_only/train/label/IMG_0635_res_part10.tif', 'data_crop_residue_only/train/label/IMG_0635_res_part11.tif', 'data_crop_residue_only/train/label/IMG_0635_res_part12.tif', 'data_crop_residue_only/train/label/IMG_0635_res_part13.tif', 'data_crop_residue_only/train/label/IMG_0635_res_part14.tif', 'data_crop_residue_only/train/label/IMG_0635_res_part15.tif', 'data_crop_residue_only/train/label/IMG_0635_res_part16.tif', 'data_crop_residue_only/train/label/IMG_0636_res_part01.tif', 'data_crop_residue_only/train/label/IMG_0636_res_part02.tif', 'data_crop_residue_only/train/label/IMG_0636_res_part03.tif', 'data_crop_residue_only/train/label/IMG_0636_res_part04.tif', 'data_crop_residue_only/train/label/IMG_0636_res_part05.tif', 'data_crop_residue_only/train/label/IMG_0636_res_part06.tif', 'data_crop_residue_only/train/label/IMG_0636_res_part07.tif', 'data_crop_residue_only/train/label/IMG_0636_res_part08.tif', 'data_crop_residue_only/train/label/IMG_0636_res_part09.tif', 'data_crop_residue_only/train/label/IMG_0636_res_part10.tif', 'data_crop_residue_only/train/label/IMG_0636_res_part11.tif', 'data_crop_residue_only/train/label/IMG_0636_res_part12.tif', 'data_crop_residue_only/train/label/IMG_0636_res_part13.tif', 'data_crop_residue_only/train/label/IMG_0636_res_part14.tif', 'data_crop_residue_only/train/label/IMG_0636_res_part15.tif', 'data_crop_residue_only/train/label/IMG_0636_res_part16.tif', 'data_crop_residue_only/train/label/IMG_0637_res_part01.tif', 'data_crop_residue_only/train/label/IMG_0637_res_part02.tif', 'data_crop_residue_only/train/label/IMG_0637_res_part03.tif', 'data_crop_residue_only/train/label/IMG_0637_res_part04.tif', 'data_crop_residue_only/train/label/IMG_0637_res_part05.tif', 'data_crop_residue_only/train/label/IMG_0637_res_part06.tif', 'data_crop_residue_only/train/label/IMG_0637_res_part07.tif', 'data_crop_residue_only/train/label/IMG_0637_res_part08.tif', 'data_crop_residue_only/train/label/IMG_0637_res_part09.tif', 'data_crop_residue_only/train/label/IMG_0637_res_part10.tif', 'data_crop_residue_only/train/label/IMG_0637_res_part11.tif', 'data_crop_residue_only/train/label/IMG_0637_res_part12.tif', 'data_crop_residue_only/train/label/IMG_0637_res_part13.tif', 'data_crop_residue_only/train/label/IMG_0637_res_part14.tif', 'data_crop_residue_only/train/label/IMG_0637_res_part15.tif', 'data_crop_residue_only/train/label/IMG_0637_res_part16.tif', 'data_crop_residue_only/train/label/IMG_0638_res_part01.tif', 'data_crop_residue_only/train/label/IMG_0638_res_part02.tif', 'data_crop_residue_only/train/label/IMG_0638_res_part03.tif', 'data_crop_residue_only/train/label/IMG_0638_res_part04.tif', 'data_crop_residue_only/train/label/IMG_0638_res_part05.tif', 'data_crop_residue_only/train/label/IMG_0638_res_part06.tif', 'data_crop_residue_only/train/label/IMG_0638_res_part07.tif', 'data_crop_residue_only/train/label/IMG_0638_res_part08.tif', 'data_crop_residue_only/train/label/IMG_0638_res_part09.tif', 'data_crop_residue_only/train/label/IMG_0638_res_part10.tif', 'data_crop_residue_only/train/label/IMG_0638_res_part11.tif', 'data_crop_residue_only/train/label/IMG_0638_res_part12.tif', 'data_crop_residue_only/train/label/IMG_0638_res_part13.tif', 'data_crop_residue_only/train/label/IMG_0638_res_part14.tif', 'data_crop_residue_only/train/label/IMG_0638_res_part15.tif', 'data_crop_residue_only/train/label/IMG_0638_res_part16.tif', 'data_crop_residue_only/train/label/IMG_0782_res_part01.tif', 'data_crop_residue_only/train/label/IMG_0782_res_part02.tif', 'data_crop_residue_only/train/label/IMG_0782_res_part03.tif', 'data_crop_residue_only/train/label/IMG_0782_res_part04.tif', 'data_crop_residue_only/train/label/IMG_0782_res_part05.tif', 'data_crop_residue_only/train/label/IMG_0782_res_part06.tif', 'data_crop_residue_only/train/label/IMG_0782_res_part07.tif', 'data_crop_residue_only/train/label/IMG_0782_res_part08.tif', 'data_crop_residue_only/train/label/IMG_0782_res_part09.tif', 'data_crop_residue_only/train/label/IMG_0782_res_part10.tif', 'data_crop_residue_only/train/label/IMG_0782_res_part11.tif', 'data_crop_residue_only/train/label/IMG_0782_res_part12.tif', 'data_crop_residue_only/train/label/IMG_0782_res_part13.tif', 'data_crop_residue_only/train/label/IMG_0782_res_part14.tif', 'data_crop_residue_only/train/label/IMG_0782_res_part15.tif', 'data_crop_residue_only/train/label/IMG_0782_res_part16.tif', 'data_crop_residue_only/train/label/IMG_0783_res_part01.tif', 'data_crop_residue_only/train/label/IMG_0783_res_part02.tif', 'data_crop_residue_only/train/label/IMG_0783_res_part03.tif', 'data_crop_residue_only/train/label/IMG_0783_res_part04.tif', 'data_crop_residue_only/train/label/IMG_0783_res_part05.tif', 'data_crop_residue_only/train/label/IMG_0783_res_part06.tif', 'data_crop_residue_only/train/label/IMG_0783_res_part07.tif', 'data_crop_residue_only/train/label/IMG_0783_res_part08.tif', 'data_crop_residue_only/train/label/IMG_0783_res_part09.tif', 'data_crop_residue_only/train/label/IMG_0783_res_part10.tif', 'data_crop_residue_only/train/label/IMG_0783_res_part11.tif', 'data_crop_residue_only/train/label/IMG_0783_res_part12.tif', 'data_crop_residue_only/train/label/IMG_0783_res_part13.tif', 'data_crop_residue_only/train/label/IMG_0783_res_part14.tif', 'data_crop_residue_only/train/label/IMG_0783_res_part15.tif', 'data_crop_residue_only/train/label/IMG_0783_res_part16.tif', 'data_crop_residue_only/train/label/IMG_0784_res_part01.tif', 'data_crop_residue_only/train/label/IMG_0784_res_part02.tif', 'data_crop_residue_only/train/label/IMG_0784_res_part03.tif', 'data_crop_residue_only/train/label/IMG_0784_res_part04.tif', 'data_crop_residue_only/train/label/IMG_0784_res_part05.tif', 'data_crop_residue_only/train/label/IMG_0784_res_part06.tif', 'data_crop_residue_only/train/label/IMG_0784_res_part07.tif', 'data_crop_residue_only/train/label/IMG_0784_res_part08.tif', 'data_crop_residue_only/train/label/IMG_0784_res_part09.tif', 'data_crop_residue_only/train/label/IMG_0784_res_part10.tif', 'data_crop_residue_only/train/label/IMG_0784_res_part11.tif', 'data_crop_residue_only/train/label/IMG_0784_res_part12.tif', 'data_crop_residue_only/train/label/IMG_0784_res_part13.tif', 'data_crop_residue_only/train/label/IMG_0784_res_part14.tif', 'data_crop_residue_only/train/label/IMG_0784_res_part15.tif', 'data_crop_residue_only/train/label/IMG_0784_res_part16.tif', 'data_crop_residue_only/train/label/IMG_0786_res_part01.tif', 'data_crop_residue_only/train/label/IMG_0786_res_part02.tif', 'data_crop_residue_only/train/label/IMG_0786_res_part03.tif', 'data_crop_residue_only/train/label/IMG_0786_res_part04.tif', 'data_crop_residue_only/train/label/IMG_0786_res_part05.tif', 'data_crop_residue_only/train/label/IMG_0786_res_part06.tif', 'data_crop_residue_only/train/label/IMG_0786_res_part07.tif', 'data_crop_residue_only/train/label/IMG_0786_res_part08.tif', 'data_crop_residue_only/train/label/IMG_0786_res_part09.tif', 'data_crop_residue_only/train/label/IMG_0786_res_part10.tif', 'data_crop_residue_only/train/label/IMG_0786_res_part11.tif', 'data_crop_residue_only/train/label/IMG_0786_res_part12.tif', 'data_crop_residue_only/train/label/IMG_0786_res_part13.tif', 'data_crop_residue_only/train/label/IMG_0786_res_part14.tif', 'data_crop_residue_only/train/label/IMG_0786_res_part15.tif', 'data_crop_residue_only/train/label/IMG_0786_res_part16.tif', 'data_crop_residue_only/train/label/IMG_0787_res_part01.tif', 'data_crop_residue_only/train/label/IMG_0787_res_part02.tif', 'data_crop_residue_only/train/label/IMG_0787_res_part03.tif', 'data_crop_residue_only/train/label/IMG_0787_res_part04.tif', 'data_crop_residue_only/train/label/IMG_0787_res_part05.tif', 'data_crop_residue_only/train/label/IMG_0787_res_part06.tif', 'data_crop_residue_only/train/label/IMG_0787_res_part07.tif', 'data_crop_residue_only/train/label/IMG_0787_res_part08.tif', 'data_crop_residue_only/train/label/IMG_0787_res_part09.tif', 'data_crop_residue_only/train/label/IMG_0787_res_part10.tif', 'data_crop_residue_only/train/label/IMG_0787_res_part11.tif', 'data_crop_residue_only/train/label/IMG_0787_res_part12.tif', 'data_crop_residue_only/train/label/IMG_0787_res_part13.tif', 'data_crop_residue_only/train/label/IMG_0787_res_part14.tif', 'data_crop_residue_only/train/label/IMG_0787_res_part15.tif', 'data_crop_residue_only/train/label/IMG_0787_res_part16.tif', 'data_crop_residue_only/train/label/IMG_0788_res_part01.tif', 'data_crop_residue_only/train/label/IMG_0788_res_part02.tif', 'data_crop_residue_only/train/label/IMG_0788_res_part03.tif', 'data_crop_residue_only/train/label/IMG_0788_res_part04.tif', 'data_crop_residue_only/train/label/IMG_0788_res_part05.tif', 'data_crop_residue_only/train/label/IMG_0788_res_part06.tif', 'data_crop_residue_only/train/label/IMG_0788_res_part07.tif', 'data_crop_residue_only/train/label/IMG_0788_res_part08.tif', 'data_crop_residue_only/train/label/IMG_0788_res_part09.tif', 'data_crop_residue_only/train/label/IMG_0788_res_part10.tif', 'data_crop_residue_only/train/label/IMG_0788_res_part11.tif', 'data_crop_residue_only/train/label/IMG_0788_res_part12.tif', 'data_crop_residue_only/train/label/IMG_0788_res_part13.tif', 'data_crop_residue_only/train/label/IMG_0788_res_part14.tif', 'data_crop_residue_only/train/label/IMG_0788_res_part15.tif', 'data_crop_residue_only/train/label/IMG_0788_res_part16.tif', 'data_crop_residue_only/train/label/IMG_0789_res_part01.tif', 'data_crop_residue_only/train/label/IMG_0789_res_part02.tif', 'data_crop_residue_only/train/label/IMG_0789_res_part03.tif', 'data_crop_residue_only/train/label/IMG_0789_res_part04.tif', 'data_crop_residue_only/train/label/IMG_0789_res_part05.tif', 'data_crop_residue_only/train/label/IMG_0789_res_part06.tif', 'data_crop_residue_only/train/label/IMG_0789_res_part07.tif', 'data_crop_residue_only/train/label/IMG_0789_res_part08.tif', 'data_crop_residue_only/train/label/IMG_0789_res_part09.tif', 'data_crop_residue_only/train/label/IMG_0789_res_part10.tif', 'data_crop_residue_only/train/label/IMG_0789_res_part11.tif', 'data_crop_residue_only/train/label/IMG_0789_res_part12.tif', 'data_crop_residue_only/train/label/IMG_0789_res_part13.tif', 'data_crop_residue_only/train/label/IMG_0789_res_part14.tif', 'data_crop_residue_only/train/label/IMG_0789_res_part15.tif', 'data_crop_residue_only/train/label/IMG_0789_res_part16.tif', 'data_crop_residue_only/train/label/IMG_0807_res_part01.tif', 'data_crop_residue_only/train/label/IMG_0807_res_part02.tif', 'data_crop_residue_only/train/label/IMG_0807_res_part03.tif', 'data_crop_residue_only/train/label/IMG_0807_res_part04.tif', 'data_crop_residue_only/train/label/IMG_0807_res_part05.tif', 'data_crop_residue_only/train/label/IMG_0807_res_part06.tif', 'data_crop_residue_only/train/label/IMG_0807_res_part07.tif', 'data_crop_residue_only/train/label/IMG_0807_res_part08.tif', 'data_crop_residue_only/train/label/IMG_0807_res_part09.tif', 'data_crop_residue_only/train/label/IMG_0807_res_part10.tif', 'data_crop_residue_only/train/label/IMG_0807_res_part11.tif', 'data_crop_residue_only/train/label/IMG_0807_res_part12.tif', 'data_crop_residue_only/train/label/IMG_0807_res_part13.tif', 'data_crop_residue_only/train/label/IMG_0807_res_part14.tif', 'data_crop_residue_only/train/label/IMG_0807_res_part15.tif', 'data_crop_residue_only/train/label/IMG_0807_res_part16.tif', 'data_crop_residue_only/train/label/IMG_0808_res_part01.tif', 'data_crop_residue_only/train/label/IMG_0808_res_part02.tif', 'data_crop_residue_only/train/label/IMG_0808_res_part03.tif', 'data_crop_residue_only/train/label/IMG_0808_res_part04.tif', 'data_crop_residue_only/train/label/IMG_0808_res_part05.tif', 'data_crop_residue_only/train/label/IMG_0808_res_part06.tif', 'data_crop_residue_only/train/label/IMG_0808_res_part07.tif', 'data_crop_residue_only/train/label/IMG_0808_res_part08.tif', 'data_crop_residue_only/train/label/IMG_0808_res_part09.tif', 'data_crop_residue_only/train/label/IMG_0808_res_part10.tif', 'data_crop_residue_only/train/label/IMG_0808_res_part11.tif', 'data_crop_residue_only/train/label/IMG_0808_res_part12.tif', 'data_crop_residue_only/train/label/IMG_0808_res_part13.tif', 'data_crop_residue_only/train/label/IMG_0808_res_part14.tif', 'data_crop_residue_only/train/label/IMG_0808_res_part15.tif', 'data_crop_residue_only/train/label/IMG_0808_res_part16.tif', 'data_crop_residue_only/train/label/IMG_0809_res_part01.tif', 'data_crop_residue_only/train/label/IMG_0809_res_part02.tif', 'data_crop_residue_only/train/label/IMG_0809_res_part03.tif', 'data_crop_residue_only/train/label/IMG_0809_res_part04.tif', 'data_crop_residue_only/train/label/IMG_0809_res_part05.tif', 'data_crop_residue_only/train/label/IMG_0809_res_part06.tif', 'data_crop_residue_only/train/label/IMG_0809_res_part07.tif', 'data_crop_residue_only/train/label/IMG_0809_res_part08.tif', 'data_crop_residue_only/train/label/IMG_0809_res_part09.tif', 'data_crop_residue_only/train/label/IMG_0809_res_part10.tif', 'data_crop_residue_only/train/label/IMG_0809_res_part11.tif', 'data_crop_residue_only/train/label/IMG_0809_res_part12.tif', 'data_crop_residue_only/train/label/IMG_0809_res_part13.tif', 'data_crop_residue_only/train/label/IMG_0809_res_part14.tif', 'data_crop_residue_only/train/label/IMG_0809_res_part15.tif', 'data_crop_residue_only/train/label/IMG_0809_res_part16.tif', 'data_crop_residue_only/train/label/IMG_0810_res_part01.tif', 'data_crop_residue_only/train/label/IMG_0810_res_part02.tif', 'data_crop_residue_only/train/label/IMG_0810_res_part03.tif', 'data_crop_residue_only/train/label/IMG_0810_res_part04.tif', 'data_crop_residue_only/train/label/IMG_0810_res_part05.tif', 'data_crop_residue_only/train/label/IMG_0810_res_part06.tif', 'data_crop_residue_only/train/label/IMG_0810_res_part07.tif', 'data_crop_residue_only/train/label/IMG_0810_res_part08.tif', 'data_crop_residue_only/train/label/IMG_0810_res_part09.tif', 'data_crop_residue_only/train/label/IMG_0810_res_part10.tif', 'data_crop_residue_only/train/label/IMG_0810_res_part11.tif', 'data_crop_residue_only/train/label/IMG_0810_res_part12.tif', 'data_crop_residue_only/train/label/IMG_0810_res_part13.tif', 'data_crop_residue_only/train/label/IMG_0810_res_part14.tif', 'data_crop_residue_only/train/label/IMG_0810_res_part15.tif', 'data_crop_residue_only/train/label/IMG_0810_res_part16.tif', 'data_crop_residue_only/train/label/IMG_0812_res_part01.tif', 'data_crop_residue_only/train/label/IMG_0812_res_part02.tif', 'data_crop_residue_only/train/label/IMG_0812_res_part03.tif', 'data_crop_residue_only/train/label/IMG_0812_res_part04.tif', 'data_crop_residue_only/train/label/IMG_0812_res_part05.tif', 'data_crop_residue_only/train/label/IMG_0812_res_part06.tif', 'data_crop_residue_only/train/label/IMG_0812_res_part07.tif', 'data_crop_residue_only/train/label/IMG_0812_res_part08.tif', 'data_crop_residue_only/train/label/IMG_0812_res_part09.tif', 'data_crop_residue_only/train/label/IMG_0812_res_part10.tif', 'data_crop_residue_only/train/label/IMG_0812_res_part11.tif', 'data_crop_residue_only/train/label/IMG_0812_res_part12.tif', 'data_crop_residue_only/train/label/IMG_0812_res_part13.tif', 'data_crop_residue_only/train/label/IMG_0812_res_part14.tif', 'data_crop_residue_only/train/label/IMG_0812_res_part15.tif', 'data_crop_residue_only/train/label/IMG_0812_res_part16.tif', 'data_crop_residue_only/train/label/IMG_0813_res_part01.tif', 'data_crop_residue_only/train/label/IMG_0813_res_part02.tif', 'data_crop_residue_only/train/label/IMG_0813_res_part03.tif', 'data_crop_residue_only/train/label/IMG_0813_res_part04.tif', 'data_crop_residue_only/train/label/IMG_0813_res_part05.tif', 'data_crop_residue_only/train/label/IMG_0813_res_part06.tif', 'data_crop_residue_only/train/label/IMG_0813_res_part07.tif', 'data_crop_residue_only/train/label/IMG_0813_res_part08.tif', 'data_crop_residue_only/train/label/IMG_0813_res_part09.tif', 'data_crop_residue_only/train/label/IMG_0813_res_part10.tif', 'data_crop_residue_only/train/label/IMG_0813_res_part11.tif', 'data_crop_residue_only/train/label/IMG_0813_res_part12.tif', 'data_crop_residue_only/train/label/IMG_0813_res_part13.tif', 'data_crop_residue_only/train/label/IMG_0813_res_part14.tif', 'data_crop_residue_only/train/label/IMG_0813_res_part15.tif', 'data_crop_residue_only/train/label/IMG_0813_res_part16.tif', 'data_crop_residue_only/train/label/IMG_0814_res_part01.tif', 'data_crop_residue_only/train/label/IMG_0814_res_part02.tif', 'data_crop_residue_only/train/label/IMG_0814_res_part03.tif', 'data_crop_residue_only/train/label/IMG_0814_res_part04.tif', 'data_crop_residue_only/train/label/IMG_0814_res_part05.tif', 'data_crop_residue_only/train/label/IMG_0814_res_part06.tif', 'data_crop_residue_only/train/label/IMG_0814_res_part07.tif', 'data_crop_residue_only/train/label/IMG_0814_res_part08.tif', 'data_crop_residue_only/train/label/IMG_0814_res_part09.tif', 'data_crop_residue_only/train/label/IMG_0814_res_part10.tif', 'data_crop_residue_only/train/label/IMG_0814_res_part11.tif', 'data_crop_residue_only/train/label/IMG_0814_res_part12.tif', 'data_crop_residue_only/train/label/IMG_0814_res_part13.tif', 'data_crop_residue_only/train/label/IMG_0814_res_part14.tif', 'data_crop_residue_only/train/label/IMG_0814_res_part15.tif', 'data_crop_residue_only/train/label/IMG_0814_res_part16.tif', 'data_crop_residue_only/train/label/IMG_0815_res_part01.tif', 'data_crop_residue_only/train/label/IMG_0815_res_part02.tif', 'data_crop_residue_only/train/label/IMG_0815_res_part03.tif', 'data_crop_residue_only/train/label/IMG_0815_res_part04.tif', 'data_crop_residue_only/train/label/IMG_0815_res_part05.tif', 'data_crop_residue_only/train/label/IMG_0815_res_part06.tif', 'data_crop_residue_only/train/label/IMG_0815_res_part07.tif', 'data_crop_residue_only/train/label/IMG_0815_res_part08.tif', 'data_crop_residue_only/train/label/IMG_0815_res_part09.tif', 'data_crop_residue_only/train/label/IMG_0815_res_part10.tif', 'data_crop_residue_only/train/label/IMG_0815_res_part11.tif', 'data_crop_residue_only/train/label/IMG_0815_res_part12.tif', 'data_crop_residue_only/train/label/IMG_0815_res_part13.tif', 'data_crop_residue_only/train/label/IMG_0815_res_part14.tif', 'data_crop_residue_only/train/label/IMG_0815_res_part15.tif', 'data_crop_residue_only/train/label/IMG_0815_res_part16.tif', 'data_crop_residue_only/train/label/IMG_0816_res_part01.tif', 'data_crop_residue_only/train/label/IMG_0816_res_part02.tif', 'data_crop_residue_only/train/label/IMG_0816_res_part03.tif', 'data_crop_residue_only/train/label/IMG_0816_res_part04.tif', 'data_crop_residue_only/train/label/IMG_0816_res_part05.tif', 'data_crop_residue_only/train/label/IMG_0816_res_part06.tif', 'data_crop_residue_only/train/label/IMG_0816_res_part07.tif', 'data_crop_residue_only/train/label/IMG_0816_res_part08.tif', 'data_crop_residue_only/train/label/IMG_0816_res_part09.tif', 'data_crop_residue_only/train/label/IMG_0816_res_part10.tif', 'data_crop_residue_only/train/label/IMG_0816_res_part11.tif', 'data_crop_residue_only/train/label/IMG_0816_res_part12.tif', 'data_crop_residue_only/train/label/IMG_0816_res_part13.tif', 'data_crop_residue_only/train/label/IMG_0816_res_part14.tif', 'data_crop_residue_only/train/label/IMG_0816_res_part15.tif', 'data_crop_residue_only/train/label/IMG_0816_res_part16.tif', 'data_crop_residue_only/train/label/IMG_0889_res_part01.tif', 'data_crop_residue_only/train/label/IMG_0889_res_part02.tif', 'data_crop_residue_only/train/label/IMG_0889_res_part03.tif', 'data_crop_residue_only/train/label/IMG_0889_res_part04.tif', 'data_crop_residue_only/train/label/IMG_0889_res_part05.tif', 'data_crop_residue_only/train/label/IMG_0889_res_part06.tif', 'data_crop_residue_only/train/label/IMG_0889_res_part07.tif', 'data_crop_residue_only/train/label/IMG_0889_res_part08.tif', 'data_crop_residue_only/train/label/IMG_0889_res_part09.tif', 'data_crop_residue_only/train/label/IMG_0889_res_part10.tif', 'data_crop_residue_only/train/label/IMG_0889_res_part11.tif', 'data_crop_residue_only/train/label/IMG_0889_res_part12.tif', 'data_crop_residue_only/train/label/IMG_0889_res_part13.tif', 'data_crop_residue_only/train/label/IMG_0889_res_part14.tif', 'data_crop_residue_only/train/label/IMG_0889_res_part15.tif', 'data_crop_residue_only/train/label/IMG_0889_res_part16.tif', 'data_crop_residue_only/train/label/IMG_0890_res_part01.tif', 'data_crop_residue_only/train/label/IMG_0890_res_part02.tif', 'data_crop_residue_only/train/label/IMG_0890_res_part03.tif', 'data_crop_residue_only/train/label/IMG_0890_res_part04.tif', 'data_crop_residue_only/train/label/IMG_0890_res_part05.tif', 'data_crop_residue_only/train/label/IMG_0890_res_part06.tif', 'data_crop_residue_only/train/label/IMG_0890_res_part07.tif', 'data_crop_residue_only/train/label/IMG_0890_res_part08.tif', 'data_crop_residue_only/train/label/IMG_0890_res_part09.tif', 'data_crop_residue_only/train/label/IMG_0890_res_part10.tif', 'data_crop_residue_only/train/label/IMG_0890_res_part11.tif', 'data_crop_residue_only/train/label/IMG_0890_res_part12.tif', 'data_crop_residue_only/train/label/IMG_0890_res_part13.tif', 'data_crop_residue_only/train/label/IMG_0890_res_part14.tif', 'data_crop_residue_only/train/label/IMG_0890_res_part15.tif', 'data_crop_residue_only/train/label/IMG_0890_res_part16.tif', 'data_crop_residue_only/train/label/IMG_0891_res_part01.tif', 'data_crop_residue_only/train/label/IMG_0891_res_part02.tif', 'data_crop_residue_only/train/label/IMG_0891_res_part03.tif', 'data_crop_residue_only/train/label/IMG_0891_res_part04.tif', 'data_crop_residue_only/train/label/IMG_0891_res_part05.tif', 'data_crop_residue_only/train/label/IMG_0891_res_part06.tif', 'data_crop_residue_only/train/label/IMG_0891_res_part07.tif', 'data_crop_residue_only/train/label/IMG_0891_res_part08.tif', 'data_crop_residue_only/train/label/IMG_0891_res_part09.tif', 'data_crop_residue_only/train/label/IMG_0891_res_part10.tif', 'data_crop_residue_only/train/label/IMG_0891_res_part11.tif', 'data_crop_residue_only/train/label/IMG_0891_res_part12.tif', 'data_crop_residue_only/train/label/IMG_0891_res_part13.tif', 'data_crop_residue_only/train/label/IMG_0891_res_part14.tif', 'data_crop_residue_only/train/label/IMG_0891_res_part15.tif', 'data_crop_residue_only/train/label/IMG_0891_res_part16.tif', 'data_crop_residue_only/train/label/IMG_0892_res_part01.tif', 'data_crop_residue_only/train/label/IMG_0892_res_part02.tif', 'data_crop_residue_only/train/label/IMG_0892_res_part03.tif', 'data_crop_residue_only/train/label/IMG_0892_res_part04.tif', 'data_crop_residue_only/train/label/IMG_0892_res_part05.tif', 'data_crop_residue_only/train/label/IMG_0892_res_part06.tif', 'data_crop_residue_only/train/label/IMG_0892_res_part07.tif', 'data_crop_residue_only/train/label/IMG_0892_res_part08.tif', 'data_crop_residue_only/train/label/IMG_0892_res_part09.tif', 'data_crop_residue_only/train/label/IMG_0892_res_part10.tif', 'data_crop_residue_only/train/label/IMG_0892_res_part11.tif', 'data_crop_residue_only/train/label/IMG_0892_res_part12.tif', 'data_crop_residue_only/train/label/IMG_0892_res_part13.tif', 'data_crop_residue_only/train/label/IMG_0892_res_part14.tif', 'data_crop_residue_only/train/label/IMG_0892_res_part15.tif', 'data_crop_residue_only/train/label/IMG_0892_res_part16.tif', 'data_crop_residue_only/train/label/IMG_0893_res_part01.tif', 'data_crop_residue_only/train/label/IMG_0893_res_part02.tif', 'data_crop_residue_only/train/label/IMG_0893_res_part03.tif', 'data_crop_residue_only/train/label/IMG_0893_res_part04.tif', 'data_crop_residue_only/train/label/IMG_0893_res_part05.tif', 'data_crop_residue_only/train/label/IMG_0893_res_part06.tif', 'data_crop_residue_only/train/label/IMG_0893_res_part07.tif', 'data_crop_residue_only/train/label/IMG_0893_res_part08.tif', 'data_crop_residue_only/train/label/IMG_0893_res_part09.tif', 'data_crop_residue_only/train/label/IMG_0893_res_part10.tif', 'data_crop_residue_only/train/label/IMG_0893_res_part11.tif', 'data_crop_residue_only/train/label/IMG_0893_res_part12.tif', 'data_crop_residue_only/train/label/IMG_0893_res_part13.tif', 'data_crop_residue_only/train/label/IMG_0893_res_part14.tif', 'data_crop_residue_only/train/label/IMG_0893_res_part15.tif', 'data_crop_residue_only/train/label/IMG_0893_res_part16.tif', 'data_crop_residue_only/train/label/IMG_0895_res_part01.tif', 'data_crop_residue_only/train/label/IMG_0895_res_part02.tif', 'data_crop_residue_only/train/label/IMG_0895_res_part03.tif', 'data_crop_residue_only/train/label/IMG_0895_res_part04.tif', 'data_crop_residue_only/train/label/IMG_0895_res_part05.tif', 'data_crop_residue_only/train/label/IMG_0895_res_part06.tif', 'data_crop_residue_only/train/label/IMG_0895_res_part07.tif', 'data_crop_residue_only/train/label/IMG_0895_res_part08.tif', 'data_crop_residue_only/train/label/IMG_0895_res_part09.tif', 'data_crop_residue_only/train/label/IMG_0895_res_part10.tif', 'data_crop_residue_only/train/label/IMG_0895_res_part11.tif', 'data_crop_residue_only/train/label/IMG_0895_res_part12.tif', 'data_crop_residue_only/train/label/IMG_0895_res_part13.tif', 'data_crop_residue_only/train/label/IMG_0895_res_part14.tif', 'data_crop_residue_only/train/label/IMG_0895_res_part15.tif', 'data_crop_residue_only/train/label/IMG_0895_res_part16.tif', 'data_crop_residue_only/train/label/IMG_0896_res_part01.tif', 'data_crop_residue_only/train/label/IMG_0896_res_part02.tif', 'data_crop_residue_only/train/label/IMG_0896_res_part03.tif', 'data_crop_residue_only/train/label/IMG_0896_res_part04.tif', 'data_crop_residue_only/train/label/IMG_0896_res_part05.tif', 'data_crop_residue_only/train/label/IMG_0896_res_part06.tif', 'data_crop_residue_only/train/label/IMG_0896_res_part07.tif', 'data_crop_residue_only/train/label/IMG_0896_res_part08.tif', 'data_crop_residue_only/train/label/IMG_0896_res_part09.tif', 'data_crop_residue_only/train/label/IMG_0896_res_part10.tif', 'data_crop_residue_only/train/label/IMG_0896_res_part11.tif', 'data_crop_residue_only/train/label/IMG_0896_res_part12.tif', 'data_crop_residue_only/train/label/IMG_0896_res_part13.tif', 'data_crop_residue_only/train/label/IMG_0896_res_part14.tif', 'data_crop_residue_only/train/label/IMG_0896_res_part15.tif', 'data_crop_residue_only/train/label/IMG_0896_res_part16.tif', 'data_crop_residue_only/train/label/IMG_0897_res_part01.tif', 'data_crop_residue_only/train/label/IMG_0897_res_part02.tif', 'data_crop_residue_only/train/label/IMG_0897_res_part03.tif', 'data_crop_residue_only/train/label/IMG_0897_res_part04.tif', 'data_crop_residue_only/train/label/IMG_0897_res_part05.tif', 'data_crop_residue_only/train/label/IMG_0897_res_part06.tif', 'data_crop_residue_only/train/label/IMG_0897_res_part07.tif', 'data_crop_residue_only/train/label/IMG_0897_res_part08.tif', 'data_crop_residue_only/train/label/IMG_0897_res_part09.tif', 'data_crop_residue_only/train/label/IMG_0897_res_part10.tif', 'data_crop_residue_only/train/label/IMG_0897_res_part11.tif', 'data_crop_residue_only/train/label/IMG_0897_res_part12.tif', 'data_crop_residue_only/train/label/IMG_0897_res_part13.tif', 'data_crop_residue_only/train/label/IMG_0897_res_part14.tif', 'data_crop_residue_only/train/label/IMG_0897_res_part15.tif', 'data_crop_residue_only/train/label/IMG_0897_res_part16.tif', 'data_crop_residue_only/train/label/IMG_0898_res_part01.tif', 'data_crop_residue_only/train/label/IMG_0898_res_part02.tif', 'data_crop_residue_only/train/label/IMG_0898_res_part03.tif', 'data_crop_residue_only/train/label/IMG_0898_res_part04.tif', 'data_crop_residue_only/train/label/IMG_0898_res_part05.tif', 'data_crop_residue_only/train/label/IMG_0898_res_part06.tif', 'data_crop_residue_only/train/label/IMG_0898_res_part07.tif', 'data_crop_residue_only/train/label/IMG_0898_res_part08.tif', 'data_crop_residue_only/train/label/IMG_0898_res_part09.tif', 'data_crop_residue_only/train/label/IMG_0898_res_part10.tif', 'data_crop_residue_only/train/label/IMG_0898_res_part11.tif', 'data_crop_residue_only/train/label/IMG_0898_res_part12.tif', 'data_crop_residue_only/train/label/IMG_0898_res_part13.tif', 'data_crop_residue_only/train/label/IMG_0898_res_part14.tif', 'data_crop_residue_only/train/label/IMG_0898_res_part15.tif', 'data_crop_residue_only/train/label/IMG_0898_res_part16.tif', 'data_crop_residue_only/train/label/IMG_0937_res_part01.tif', 'data_crop_residue_only/train/label/IMG_0937_res_part02.tif', 'data_crop_residue_only/train/label/IMG_0937_res_part03.tif', 'data_crop_residue_only/train/label/IMG_0937_res_part04.tif', 'data_crop_residue_only/train/label/IMG_0937_res_part05.tif', 'data_crop_residue_only/train/label/IMG_0937_res_part06.tif', 'data_crop_residue_only/train/label/IMG_0937_res_part07.tif', 'data_crop_residue_only/train/label/IMG_0937_res_part08.tif', 'data_crop_residue_only/train/label/IMG_0937_res_part09.tif', 'data_crop_residue_only/train/label/IMG_0937_res_part10.tif', 'data_crop_residue_only/train/label/IMG_0937_res_part11.tif', 'data_crop_residue_only/train/label/IMG_0937_res_part12.tif', 'data_crop_residue_only/train/label/IMG_0937_res_part13.tif', 'data_crop_residue_only/train/label/IMG_0937_res_part14.tif', 'data_crop_residue_only/train/label/IMG_0937_res_part15.tif', 'data_crop_residue_only/train/label/IMG_0937_res_part16.tif', 'data_crop_residue_only/train/label/IMG_0938_res_part01.tif', 'data_crop_residue_only/train/label/IMG_0938_res_part02.tif', 'data_crop_residue_only/train/label/IMG_0938_res_part03.tif', 'data_crop_residue_only/train/label/IMG_0938_res_part04.tif', 'data_crop_residue_only/train/label/IMG_0938_res_part05.tif', 'data_crop_residue_only/train/label/IMG_0938_res_part06.tif', 'data_crop_residue_only/train/label/IMG_0938_res_part07.tif', 'data_crop_residue_only/train/label/IMG_0938_res_part08.tif', 'data_crop_residue_only/train/label/IMG_0938_res_part09.tif', 'data_crop_residue_only/train/label/IMG_0938_res_part10.tif', 'data_crop_residue_only/train/label/IMG_0938_res_part11.tif', 'data_crop_residue_only/train/label/IMG_0938_res_part12.tif', 'data_crop_residue_only/train/label/IMG_0938_res_part13.tif', 'data_crop_residue_only/train/label/IMG_0938_res_part14.tif', 'data_crop_residue_only/train/label/IMG_0938_res_part15.tif', 'data_crop_residue_only/train/label/IMG_0938_res_part16.tif', 'data_crop_residue_only/train/label/IMG_0939_res_part01.tif', 'data_crop_residue_only/train/label/IMG_0939_res_part02.tif', 'data_crop_residue_only/train/label/IMG_0939_res_part03.tif', 'data_crop_residue_only/train/label/IMG_0939_res_part04.tif', 'data_crop_residue_only/train/label/IMG_0939_res_part05.tif', 'data_crop_residue_only/train/label/IMG_0939_res_part06.tif', 'data_crop_residue_only/train/label/IMG_0939_res_part07.tif', 'data_crop_residue_only/train/label/IMG_0939_res_part08.tif', 'data_crop_residue_only/train/label/IMG_0939_res_part09.tif', 'data_crop_residue_only/train/label/IMG_0939_res_part10.tif', 'data_crop_residue_only/train/label/IMG_0939_res_part11.tif', 'data_crop_residue_only/train/label/IMG_0939_res_part12.tif', 'data_crop_residue_only/train/label/IMG_0939_res_part13.tif', 'data_crop_residue_only/train/label/IMG_0939_res_part14.tif', 'data_crop_residue_only/train/label/IMG_0939_res_part15.tif', 'data_crop_residue_only/train/label/IMG_0939_res_part16.tif', 'data_crop_residue_only/train/label/IMG_0940_res_part01.tif', 'data_crop_residue_only/train/label/IMG_0940_res_part02.tif', 'data_crop_residue_only/train/label/IMG_0940_res_part03.tif', 'data_crop_residue_only/train/label/IMG_0940_res_part04.tif', 'data_crop_residue_only/train/label/IMG_0940_res_part05.tif', 'data_crop_residue_only/train/label/IMG_0940_res_part06.tif', 'data_crop_residue_only/train/label/IMG_0940_res_part07.tif', 'data_crop_residue_only/train/label/IMG_0940_res_part08.tif', 'data_crop_residue_only/train/label/IMG_0940_res_part09.tif', 'data_crop_residue_only/train/label/IMG_0940_res_part10.tif', 'data_crop_residue_only/train/label/IMG_0940_res_part11.tif', 'data_crop_residue_only/train/label/IMG_0940_res_part12.tif', 'data_crop_residue_only/train/label/IMG_0940_res_part13.tif', 'data_crop_residue_only/train/label/IMG_0940_res_part14.tif', 'data_crop_residue_only/train/label/IMG_0940_res_part15.tif', 'data_crop_residue_only/train/label/IMG_0940_res_part16.tif', 'data_crop_residue_only/train/label/IMG_0941_res_part01.tif', 'data_crop_residue_only/train/label/IMG_0941_res_part02.tif', 'data_crop_residue_only/train/label/IMG_0941_res_part03.tif', 'data_crop_residue_only/train/label/IMG_0941_res_part04.tif', 'data_crop_residue_only/train/label/IMG_0941_res_part05.tif', 'data_crop_residue_only/train/label/IMG_0941_res_part06.tif', 'data_crop_residue_only/train/label/IMG_0941_res_part07.tif', 'data_crop_residue_only/train/label/IMG_0941_res_part08.tif', 'data_crop_residue_only/train/label/IMG_0941_res_part09.tif', 'data_crop_residue_only/train/label/IMG_0941_res_part10.tif', 'data_crop_residue_only/train/label/IMG_0941_res_part11.tif', 'data_crop_residue_only/train/label/IMG_0941_res_part12.tif', 'data_crop_residue_only/train/label/IMG_0941_res_part13.tif', 'data_crop_residue_only/train/label/IMG_0941_res_part14.tif', 'data_crop_residue_only/train/label/IMG_0941_res_part15.tif', 'data_crop_residue_only/train/label/IMG_0941_res_part16.tif', 'data_crop_residue_only/train/label/IMG_0942_res_part01.tif', 'data_crop_residue_only/train/label/IMG_0942_res_part02.tif', 'data_crop_residue_only/train/label/IMG_0942_res_part03.tif', 'data_crop_residue_only/train/label/IMG_0942_res_part04.tif', 'data_crop_residue_only/train/label/IMG_0942_res_part05.tif', 'data_crop_residue_only/train/label/IMG_0942_res_part06.tif', 'data_crop_residue_only/train/label/IMG_0942_res_part07.tif', 'data_crop_residue_only/train/label/IMG_0942_res_part08.tif', 'data_crop_residue_only/train/label/IMG_0942_res_part09.tif', 'data_crop_residue_only/train/label/IMG_0942_res_part10.tif', 'data_crop_residue_only/train/label/IMG_0942_res_part11.tif', 'data_crop_residue_only/train/label/IMG_0942_res_part12.tif', 'data_crop_residue_only/train/label/IMG_0942_res_part13.tif', 'data_crop_residue_only/train/label/IMG_0942_res_part14.tif', 'data_crop_residue_only/train/label/IMG_0942_res_part15.tif', 'data_crop_residue_only/train/label/IMG_0942_res_part16.tif', 'data_crop_residue_only/train/label/IMG_0944_res_part01.tif', 'data_crop_residue_only/train/label/IMG_0944_res_part02.tif', 'data_crop_residue_only/train/label/IMG_0944_res_part03.tif', 'data_crop_residue_only/train/label/IMG_0944_res_part04.tif', 'data_crop_residue_only/train/label/IMG_0944_res_part05.tif', 'data_crop_residue_only/train/label/IMG_0944_res_part06.tif', 'data_crop_residue_only/train/label/IMG_0944_res_part07.tif', 'data_crop_residue_only/train/label/IMG_0944_res_part08.tif', 'data_crop_residue_only/train/label/IMG_0944_res_part09.tif', 'data_crop_residue_only/train/label/IMG_0944_res_part10.tif', 'data_crop_residue_only/train/label/IMG_0944_res_part11.tif', 'data_crop_residue_only/train/label/IMG_0944_res_part12.tif', 'data_crop_residue_only/train/label/IMG_0944_res_part13.tif', 'data_crop_residue_only/train/label/IMG_0944_res_part14.tif', 'data_crop_residue_only/train/label/IMG_0944_res_part15.tif', 'data_crop_residue_only/train/label/IMG_0944_res_part16.tif', 'data_crop_residue_only/train/label/IMG_0945_res_part01.tif', 'data_crop_residue_only/train/label/IMG_0945_res_part02.tif', 'data_crop_residue_only/train/label/IMG_0945_res_part03.tif', 'data_crop_residue_only/train/label/IMG_0945_res_part04.tif', 'data_crop_residue_only/train/label/IMG_0945_res_part05.tif', 'data_crop_residue_only/train/label/IMG_0945_res_part06.tif', 'data_crop_residue_only/train/label/IMG_0945_res_part07.tif', 'data_crop_residue_only/train/label/IMG_0945_res_part08.tif', 'data_crop_residue_only/train/label/IMG_0945_res_part09.tif', 'data_crop_residue_only/train/label/IMG_0945_res_part10.tif', 'data_crop_residue_only/train/label/IMG_0945_res_part11.tif', 'data_crop_residue_only/train/label/IMG_0945_res_part12.tif', 'data_crop_residue_only/train/label/IMG_0945_res_part13.tif', 'data_crop_residue_only/train/label/IMG_0945_res_part14.tif', 'data_crop_residue_only/train/label/IMG_0945_res_part15.tif', 'data_crop_residue_only/train/label/IMG_0945_res_part16.tif', 'data_crop_residue_only/train/label/IMG_0946_res_part01.tif', 'data_crop_residue_only/train/label/IMG_0946_res_part02.tif', 'data_crop_residue_only/train/label/IMG_0946_res_part03.tif', 'data_crop_residue_only/train/label/IMG_0946_res_part04.tif', 'data_crop_residue_only/train/label/IMG_0946_res_part05.tif', 'data_crop_residue_only/train/label/IMG_0946_res_part06.tif', 'data_crop_residue_only/train/label/IMG_0946_res_part07.tif', 'data_crop_residue_only/train/label/IMG_0946_res_part08.tif', 'data_crop_residue_only/train/label/IMG_0946_res_part09.tif', 'data_crop_residue_only/train/label/IMG_0946_res_part10.tif', 'data_crop_residue_only/train/label/IMG_0946_res_part11.tif', 'data_crop_residue_only/train/label/IMG_0946_res_part12.tif', 'data_crop_residue_only/train/label/IMG_0946_res_part13.tif', 'data_crop_residue_only/train/label/IMG_0946_res_part14.tif', 'data_crop_residue_only/train/label/IMG_0946_res_part15.tif', 'data_crop_residue_only/train/label/IMG_0946_res_part16.tif']\n"
     ]
    }
   ],
   "source": [
    "# your images can of course have a different extension\n",
    "# semantic segmentation maps are typically stored in the png format\n",
    "# image_paths_train = [\"path/to/image_1.jpg/jpg\", \"path/to/image_2.jpg/jpg\", ..., \"path/to/image_n.jpg/jpg\"]\n",
    "# label_paths_train = [\"path/to/annotation_1.png\", \"path/to/annotation_2.png\", ..., \"path/to/annotation_n.png\"]\n",
    "print(sorted(label_paths_train))"
   ]
  },
  {
   "cell_type": "code",
   "execution_count": 48,
   "id": "c73713a1-5ac6-4cd0-99ad-168fb2353219",
   "metadata": {},
   "outputs": [],
   "source": [
    "# same for validation\n",
    "# image_paths_validation = [...]\n",
    "# label_paths_validation = [...]\n",
    "\n",
    "def create_dataset(image_paths, label_paths):\n",
    "    dataset = Dataset.from_dict({\"image\": sorted(image_paths),\n",
    "                                \"label\": sorted(label_paths)})\n",
    "    dataset = dataset.cast_column(\"image\", Image())\n",
    "    dataset = dataset.cast_column(\"label\", Image())\n",
    "\n",
    "    return dataset"
   ]
  },
  {
   "cell_type": "code",
   "execution_count": 49,
   "id": "a1bc4f36-d3d3-4d16-a612-93bf9c55523d",
   "metadata": {},
   "outputs": [],
   "source": [
    "# step 1: create Dataset objects\n",
    "dataset = create_dataset(image_paths_train, label_paths_train)\n",
    "# splits = dataset.train_test_split(test_size=0.2, seed=42)\n",
    "# train_dataset = splits[\"train\"]\n",
    "# validation_dataset = splits[\"test\"] "
   ]
  },
  {
   "cell_type": "code",
   "execution_count": 50,
   "id": "b3679c4b-d154-45f7-a79c-f6376661ac4a",
   "metadata": {},
   "outputs": [],
   "source": [
    "\n",
    "\n",
    "\n",
    "# step 2: create DatasetDict\n",
    "dataset = DatasetDict({\n",
    "    \"train\": dataset,\n",
    "    # \"validation\": validation_dataset,\n",
    "  }\n",
    ")"
   ]
  },
  {
   "cell_type": "code",
   "execution_count": 51,
   "id": "6b87032a-5926-44b1-b19a-b6fddfcfa98e",
   "metadata": {},
   "outputs": [
    {
     "data": {
      "application/vnd.jupyter.widget-view+json": {
       "model_id": "cbe7224216784d25ac112e59547cadf5",
       "version_major": 2,
       "version_minor": 0
      },
      "text/plain": [
       "Uploading the dataset shards:   0%|          | 0/1 [00:00<?, ?it/s]"
      ]
     },
     "metadata": {},
     "output_type": "display_data"
    },
    {
     "data": {
      "application/vnd.jupyter.widget-view+json": {
       "model_id": "1143dfeddb1942d9a7b6f5a165a44063",
       "version_major": 2,
       "version_minor": 0
      },
      "text/plain": [
       "Map:   0%|          | 0/688 [00:00<?, ? examples/s]"
      ]
     },
     "metadata": {},
     "output_type": "display_data"
    },
    {
     "data": {
      "application/vnd.jupyter.widget-view+json": {
       "model_id": "6acac48af61b45de8a918365c1274409",
       "version_major": 2,
       "version_minor": 0
      },
      "text/plain": [
       "Creating parquet from Arrow format:   0%|          | 0/7 [00:00<?, ?ba/s]"
      ]
     },
     "metadata": {},
     "output_type": "display_data"
    },
    {
     "data": {
      "text/plain": [
       "CommitInfo(commit_url='https://huggingface.co/datasets/Sowmith1999/agaid_residue_only/commit/7c9de1ff42334832384e2d0fe881f24044a320f6', commit_message='Upload dataset', commit_description='', oid='7c9de1ff42334832384e2d0fe881f24044a320f6', pr_url=None, repo_url=RepoUrl('https://huggingface.co/datasets/Sowmith1999/agaid_residue_only', endpoint='https://huggingface.co', repo_type='dataset', repo_id='Sowmith1999/agaid_residue_only'), pr_revision=None, pr_num=None)"
      ]
     },
     "execution_count": 51,
     "metadata": {},
     "output_type": "execute_result"
    }
   ],
   "source": [
    "# step 3: push to hub (assumes you have ran the huggingface-cli login command in a terminal/notebook)\n",
    "dataset.push_to_hub(\"agaid_residue_only\")\n",
    "\n",
    "# optionally, you can push to a private repo on the hub\n",
    "# dataset.push_to_hub(\"name of repo on the hub\", private=True)"
   ]
  },
  {
   "cell_type": "code",
   "execution_count": 6,
   "id": "e242206c-fe99-439a-822c-98c2bfa50cff",
   "metadata": {},
   "outputs": [],
   "source": []
  },
  {
   "cell_type": "code",
   "execution_count": 12,
   "id": "40e158af-e769-47d9-9e1b-86814e7285fc",
   "metadata": {},
   "outputs": [
    {
     "name": "stdout",
     "output_type": "stream",
     "text": [
      "hello world\n"
     ]
    }
   ],
   "source": [
    "print(\"hello world\")"
   ]
  },
  {
   "cell_type": "code",
   "execution_count": 54,
   "id": "227998f4-4837-4a9e-84d0-af699d7fa48c",
   "metadata": {},
   "outputs": [
    {
     "name": "stdout",
     "output_type": "stream",
     "text": [
      "data_crop_residue_only/train/label/IMG_0814_res_part16.tif\n",
      "Mask shape: (512, 512)\n",
      "[[0 0 0 ... 0 0 0]\n",
      " [0 0 0 ... 0 0 0]\n",
      " [0 0 0 ... 0 0 0]\n",
      " ...\n",
      " [0 0 0 ... 0 0 0]\n",
      " [0 0 0 ... 0 0 0]\n",
      " [0 0 0 ... 0 0 0]]\n",
      "Unique values: [0 1]\n"
     ]
    }
   ],
   "source": [
    "\n",
    "example_mask_path = label_paths_train[0]\n",
    "print(example_mask_path)\n",
    "with PIL.Image.open(example_mask_path) as pil_new_mask:\n",
    "    np_mask = np.array(pil_new_mask)\n",
    "    print(\"Mask shape:\", np_mask.shape)\n",
    "    print(np_mask)\n",
    "    np.savetxt(\"mask_new_1.csv\", np_mask, delimiter=\",\", fmt=\"%d\")\n",
    "    print(\"Unique values:\", np.unique(np_mask))\n",
    "    # mask = np.array(img)\n",
    "    # mask[mask == 255] = 1\n",
    "    # # Create a new PIL image and save\n",
    "    # mask_binary = PIL.Image.fromarray(mask)\n",
    "    # mask_binary.save(\"./new_mask.tif\")\n"
   ]
  },
  {
   "cell_type": "code",
   "execution_count": null,
   "id": "a3b03636-95fc-4b06-83ca-eff3703dbce4",
   "metadata": {},
   "outputs": [],
   "source": []
  }
 ],
 "metadata": {
  "kernelspec": {
   "display_name": "Python 3 (ipykernel)",
   "language": "python",
   "name": "python3"
  },
  "language_info": {
   "codemirror_mode": {
    "name": "ipython",
    "version": 3
   },
   "file_extension": ".py",
   "mimetype": "text/x-python",
   "name": "python",
   "nbconvert_exporter": "python",
   "pygments_lexer": "ipython3",
   "version": "3.11.11"
  }
 },
 "nbformat": 4,
 "nbformat_minor": 5
}
