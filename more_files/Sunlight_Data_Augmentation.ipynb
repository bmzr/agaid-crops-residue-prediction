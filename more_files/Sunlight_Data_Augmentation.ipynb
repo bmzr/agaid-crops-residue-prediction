{
  "nbformat": 4,
  "nbformat_minor": 0,
  "metadata": {
    "colab": {
      "provenance": [],
      "gpuType": "V28"
    },
    "kernelspec": {
      "name": "python3",
      "display_name": "Python 3"
    },
    "language_info": {
      "name": "python"
    },
    "accelerator": "TPU"
  },
  "cells": [
    {
      "cell_type": "markdown",
      "source": [
        "# Loading Libraries"
      ],
      "metadata": {
        "id": "Vdvg3cc7NOwe"
      }
    },
    {
      "cell_type": "code",
      "source": [
        "!pip install -U git+https://github.com/albu/albumentations > /dev/null && echo \"All libraries are successfully installed!\""
      ],
      "metadata": {
        "colab": {
          "base_uri": "https://localhost:8080/"
        },
        "id": "foda-eLW5VQE",
        "outputId": "43dce5d1-0ca2-43e1-973c-aa5e2d147438"
      },
      "execution_count": null,
      "outputs": [
        {
          "output_type": "stream",
          "name": "stdout",
          "text": [
            "  Running command git clone --filter=blob:none --quiet https://github.com/albu/albumentations /tmp/pip-req-build-4ywcqmi4\n",
            "All libraries are successfully installed!\n"
          ]
        }
      ]
    },
    {
      "cell_type": "code",
      "source": [
        "import torch\n",
        "import torch.nn as nn\n",
        "import torch.optim as optim\n",
        "from torch.utils.data import DataLoader, Dataset\n",
        "import numpy as np\n",
        "import cv2\n",
        "import os\n",
        "from glob import glob\n",
        "from sklearn.model_selection import train_test_split\n",
        "from torchvision.models.segmentation import fcn_resnet50\n",
        "import re\n",
        "import albumentations as A\n",
        "from albumentations.pytorch import ToTensorV2\n",
        "import matplotlib.pyplot as plt\n",
        "# from tensorflow.keras.models import load_model"
      ],
      "metadata": {
        "id": "1dzXbiM3NOk-"
      },
      "execution_count": null,
      "outputs": []
    },
    {
      "cell_type": "markdown",
      "source": [
        "# Mount Google Drive"
      ],
      "metadata": {
        "id": "0KavY6GrNU29"
      }
    },
    {
      "cell_type": "code",
      "execution_count": null,
      "metadata": {
        "colab": {
          "base_uri": "https://localhost:8080/"
        },
        "id": "4-atJJBFNLfg",
        "outputId": "494b1bd5-6865-4c3c-98d2-8318507e7179"
      },
      "outputs": [
        {
          "output_type": "stream",
          "name": "stdout",
          "text": [
            "Mounted at /content/drive\n"
          ]
        }
      ],
      "source": [
        "from google.colab import drive\n",
        "drive.mount('/content/drive', force_remount=True)"
      ]
    },
    {
      "cell_type": "markdown",
      "source": [
        "# Transformation for Data Augmentation"
      ],
      "metadata": {
        "id": "CKz6brpiNa61"
      }
    },
    {
      "cell_type": "code",
      "source": [
        "train_transform = A.Compose([\n",
        "    A.HorizontalFlip(p=0.5),\n",
        "    A.VerticalFlip(p=0.5),\n",
        "    A.RandomRotate90(p=0.5),\n",
        "    A.RandomBrightnessContrast(p=0.3),\n",
        "    A.ShiftScaleRotate(shift_limit=0.05, scale_limit=0.2, rotate_limit=15, p=0.5),\n",
        "    A.Resize(height=512, width=512),  # Ensure a consistent size\n",
        "    ToTensorV2(transpose_mask=True)   # Converts image to tensor (default float32) and mask appropriately\n",
        "])"
      ],
      "metadata": {
        "id": "M0K4p0XANapk",
        "colab": {
          "base_uri": "https://localhost:8080/"
        },
        "outputId": "2f49a568-396b-48fe-c748-a32f75a68ed8"
      },
      "execution_count": null,
      "outputs": [
        {
          "output_type": "stream",
          "name": "stderr",
          "text": [
            "/usr/local/lib/python3.11/dist-packages/albumentations/core/validation.py:58: UserWarning: ShiftScaleRotate is a special case of Affine transform. Please use Affine transform instead.\n",
            "  original_init(self, **validated_kwargs)\n"
          ]
        }
      ]
    },
    {
      "cell_type": "code",
      "source": [
        "val_transform = A.Compose([\n",
        "    A.Resize(height=512, width=512),\n",
        "    ToTensorV2(transpose_mask=True)\n",
        "])"
      ],
      "metadata": {
        "id": "LuBl-jbENYCf"
      },
      "execution_count": null,
      "outputs": []
    },
    {
      "cell_type": "markdown",
      "source": [
        "# Functions to Load Image and Mask"
      ],
      "metadata": {
        "id": "xBRkbjmDNmO2"
      }
    },
    {
      "cell_type": "code",
      "source": [
        "def load_image(img_path):\n",
        "    # Read image in BGR format then convert to RGB.\n",
        "    image = cv2.imread(img_path, cv2.IMREAD_COLOR)\n",
        "    if image is None:\n",
        "        raise FileNotFoundError(f\"Image not found: {img_path}\")\n",
        "    image = cv2.cvtColor(image, cv2.COLOR_BGR2RGB)\n",
        "    return image"
      ],
      "metadata": {
        "id": "OnqCWmHsNply"
      },
      "execution_count": null,
      "outputs": []
    },
    {
      "cell_type": "code",
      "source": [
        "def load_mask(img_path):\n",
        "    # Map image path to mask path using the correct regex.\n",
        "    mask_path = re.sub(r\"(IMG_\\d+)_part(\\d+)(\\.\\w+)\", r\"\\1_sunshad_part\\2.tif\", img_path)\n",
        "\n",
        "    mask = cv2.imread(mask_path, cv2.IMREAD_GRAYSCALE)\n",
        "    if mask is None:\n",
        "        raise FileNotFoundError(f\"Mask not found: {mask_path}\")\n",
        "\n",
        "    # Convert mask values: pixels with value 255 to 0 (background) and others to 1 (residue)\n",
        "    mask = np.where(mask == 255, 0, 1).astype(np.uint8)\n",
        "    return mask"
      ],
      "metadata": {
        "id": "krTrCqh1Nq_p"
      },
      "execution_count": null,
      "outputs": []
    },
    {
      "cell_type": "markdown",
      "source": [
        "# Custom Dataset Class"
      ],
      "metadata": {
        "id": "8Yef4PAONu3K"
      }
    },
    {
      "cell_type": "code",
      "source": [
        "class CropResidueDataset(Dataset):\n",
        "    def __init__(self, image_paths, transform=None):\n",
        "        self.image_paths = image_paths\n",
        "        self.transform = transform\n",
        "\n",
        "    def __len__(self):\n",
        "        return len(self.image_paths)\n",
        "\n",
        "    def __getitem__(self, idx):\n",
        "        # Load image and mask using the functions above.\n",
        "        image = load_image(self.image_paths[idx])\n",
        "        mask = load_mask(self.image_paths[idx])\n",
        "\n",
        "        if self.transform:\n",
        "            # Apply augmentation (or just resizing for validation)\n",
        "            augmented = self.transform(image=image, mask=mask)\n",
        "            image = augmented['image']   # Should already be a torch.Tensor\n",
        "            mask = augmented['mask']\n",
        "        else:\n",
        "            # Fallback conversion if no transform is provided.\n",
        "            image = torch.from_numpy(image).permute(2, 0, 1).float()\n",
        "            mask = torch.tensor(mask, dtype=torch.long)\n",
        "\n",
        "        # --- IMPORTANT FIX ---\n",
        "        # Force the image tensor to be float32 (if not already) to avoid type mismatches.\n",
        "        image = image.float()\n",
        "\n",
        "        # Ensure the mask is a LongTensor for CrossEntropyLoss.\n",
        "        mask = mask.long()\n",
        "        return image, mask"
      ],
      "metadata": {
        "id": "aYdYpc2HNsIn"
      },
      "execution_count": null,
      "outputs": []
    },
    {
      "cell_type": "markdown",
      "source": [
        "# Loading Dataset"
      ],
      "metadata": {
        "id": "UJ-qTKpQN1bf"
      }
    },
    {
      "cell_type": "code",
      "source": [
        "data_dir = \"/content/drive/MyDrive/sunlit_shaded/Limbaugh1-1m20220328/IMG_0629\"\n",
        "\n",
        "image_paths = sorted(glob(os.path.join(data_dir, \"IMG_*_part*.jpg\"), recursive=True))\n",
        "#image_paths = sorted(glob(os.path.join(data_dir, \"**\", \"IMG_*_part*.jpg\"), recursive=True))"
      ],
      "metadata": {
        "id": "2ir3IZvNNxmn"
      },
      "execution_count": null,
      "outputs": []
    },
    {
      "cell_type": "markdown",
      "source": [
        "# Train Test Split"
      ],
      "metadata": {
        "id": "DcAvnnujOA7B"
      }
    },
    {
      "cell_type": "code",
      "source": [
        "train_images, val_images = train_test_split(image_paths, test_size=0.2, random_state=42)"
      ],
      "metadata": {
        "id": "cw69JdiiN0y2"
      },
      "execution_count": null,
      "outputs": []
    },
    {
      "cell_type": "code",
      "source": [
        "train_dataset = CropResidueDataset(train_images, transform=train_transform)\n",
        "val_dataset   = CropResidueDataset(val_images, transform=val_transform)"
      ],
      "metadata": {
        "id": "IGEaJIiOOENR"
      },
      "execution_count": null,
      "outputs": []
    },
    {
      "cell_type": "code",
      "source": [
        "train_loader = DataLoader(train_dataset, batch_size=8, shuffle=True)\n",
        "val_loader   = DataLoader(val_dataset, batch_size=8, shuffle=False)"
      ],
      "metadata": {
        "id": "niG5Mh0YOFyD"
      },
      "execution_count": null,
      "outputs": []
    },
    {
      "cell_type": "markdown",
      "source": [
        "# Model"
      ],
      "metadata": {
        "id": "FEsLdcEyOJ3X"
      }
    },
    {
      "cell_type": "code",
      "source": [
        "device = torch.device(\"cuda\" if torch.cuda.is_available() else \"cpu\")"
      ],
      "metadata": {
        "id": "sJrMaCfkOIB9"
      },
      "execution_count": null,
      "outputs": []
    },
    {
      "cell_type": "markdown",
      "source": [
        "## Model 1"
      ],
      "metadata": {
        "id": "zm1kKXelOPCW"
      }
    },
    {
      "cell_type": "code",
      "source": [
        "model = fcn_resnet50(pretrained=True)\n",
        "model.classifier[4] = nn.Conv2d(512, 2, kernel_size=1)\n",
        "model = model.to(device)"
      ],
      "metadata": {
        "colab": {
          "base_uri": "https://localhost:8080/"
        },
        "id": "xIIFZ90COM7t",
        "outputId": "9f9651ca-f387-424d-a81a-43d0a4b89ff5"
      },
      "execution_count": null,
      "outputs": [
        {
          "output_type": "stream",
          "name": "stderr",
          "text": [
            "/usr/local/lib/python3.11/dist-packages/torchvision/models/_utils.py:208: UserWarning: The parameter 'pretrained' is deprecated since 0.13 and may be removed in the future, please use 'weights' instead.\n",
            "  warnings.warn(\n",
            "/usr/local/lib/python3.11/dist-packages/torchvision/models/_utils.py:223: UserWarning: Arguments other than a weight enum or `None` for 'weights' are deprecated since 0.13 and may be removed in the future. The current behavior is equivalent to passing `weights=FCN_ResNet50_Weights.COCO_WITH_VOC_LABELS_V1`. You can also use `weights=FCN_ResNet50_Weights.DEFAULT` to get the most up-to-date weights.\n",
            "  warnings.warn(msg)\n",
            "Downloading: \"https://download.pytorch.org/models/fcn_resnet50_coco-1167a1af.pth\" to /root/.cache/torch/hub/checkpoints/fcn_resnet50_coco-1167a1af.pth\n",
            "100%|██████████| 135M/135M [00:00<00:00, 193MB/s]\n"
          ]
        }
      ]
    },
    {
      "cell_type": "code",
      "source": [
        "criterion = nn.CrossEntropyLoss()\n",
        "optimizer = optim.Adam(model.parameters(), lr=1e-4)"
      ],
      "metadata": {
        "id": "k8eDC3oOOSuC"
      },
      "execution_count": null,
      "outputs": []
    },
    {
      "cell_type": "markdown",
      "source": [
        "# Performance Metrics"
      ],
      "metadata": {
        "id": "EeQospYCOX7Q"
      }
    },
    {
      "cell_type": "markdown",
      "source": [
        "## 1. IOU"
      ],
      "metadata": {
        "id": "SIp17eHoOdHw"
      }
    },
    {
      "cell_type": "code",
      "source": [
        "def calculate_iou(pred, target):\n",
        "    # Flatten tensors.\n",
        "    pred = pred.view(-1)\n",
        "    target = target.view(-1)\n",
        "    intersection = torch.sum(pred * target)\n",
        "    union = torch.sum(pred) + torch.sum(target) - intersection\n",
        "    iou = intersection.float() / (union.float() + 1e-6)\n",
        "    return iou"
      ],
      "metadata": {
        "id": "VwGwZYGFOV09"
      },
      "execution_count": null,
      "outputs": []
    },
    {
      "cell_type": "markdown",
      "source": [
        "# Training"
      ],
      "metadata": {
        "id": "ZrD1KqidOmj_"
      }
    },
    {
      "cell_type": "code",
      "source": [
        "def train_model(model, train_loader, val_loader, criterion, optimizer, num_epochs=3):\n",
        "    epoch_iou = []  # Store IoU for each epoch\n",
        "\n",
        "    for epoch in range(num_epochs):\n",
        "        model.train()\n",
        "        train_loss = 0.0\n",
        "        all_preds = []\n",
        "        all_targets = []\n",
        "\n",
        "        for images, masks in train_loader:\n",
        "            images, masks = images.to(device), masks.to(device)\n",
        "            optimizer.zero_grad()\n",
        "            outputs = model(images)['out']\n",
        "            preds = torch.argmax(outputs, dim=1)\n",
        "            loss = criterion(outputs, masks)\n",
        "            loss.backward()\n",
        "            optimizer.step()\n",
        "            train_loss += loss.item()\n",
        "\n",
        "            # Collect predictions and targets for IoU calculation.\n",
        "            all_preds.append(preds.cpu().numpy())\n",
        "            all_targets.append(masks.cpu().numpy())\n",
        "\n",
        "        # Concatenate predictions and targets across batches.\n",
        "        all_preds = np.concatenate(all_preds, axis=0)\n",
        "        all_targets = np.concatenate(all_targets, axis=0)\n",
        "        iou = calculate_iou(torch.tensor(all_preds), torch.tensor(all_targets))\n",
        "        epoch_iou.append(iou.item())\n",
        "\n",
        "        # Plot IoU vs. Epochs.\n",
        "        plt.plot(range(1, epoch + 2), epoch_iou, marker='o', linestyle='-')\n",
        "        plt.xlabel(\"Epochs\")\n",
        "        plt.ylabel(\"IoU Score\")\n",
        "        plt.title(\"IoU vs. Epochs\")\n",
        "        plt.grid(True)\n",
        "        plt.pause(0.1)\n",
        "\n",
        "        print(f\"Epoch {epoch+1}, Loss: {train_loss/len(train_loader):.4f}, IoU: {iou.item():.4f}\")\n",
        "\n",
        "    plt.show()"
      ],
      "metadata": {
        "id": "DfjwJaBXOmYf"
      },
      "execution_count": null,
      "outputs": []
    },
    {
      "cell_type": "code",
      "source": [
        "train_model(model, train_loader, val_loader, criterion, optimizer, num_epochs=3)"
      ],
      "metadata": {
        "id": "SMxTQJw1OiJp",
        "colab": {
          "base_uri": "https://localhost:8080/",
          "height": 1000
        },
        "outputId": "43b982c0-bd06-4472-b5ad-dfc2c7e6276b"
      },
      "execution_count": null,
      "outputs": [
        {
          "output_type": "display_data",
          "data": {
            "text/plain": [
              "<Figure size 640x480 with 1 Axes>"
            ],
            "image/png": "[encoded data removed]"
          },
          "metadata": {}
        },
        {
          "output_type": "stream",
          "name": "stdout",
          "text": [
            "Epoch 1, Loss: 0.6402, IoU: 0.5943\n"
          ]
        },
        {
          "output_type": "display_data",
          "data": {
            "text/plain": [
              "<Figure size 640x480 with 1 Axes>"
            ],
            "image/png": "[encoded data removed]"
          },
          "metadata": {}
        },
        {
          "output_type": "stream",
          "name": "stdout",
          "text": [
            "Epoch 2, Loss: 0.5173, IoU: 0.7204\n"
          ]
        },
        {
          "output_type": "display_data",
          "data": {
            "text/plain": [
              "<Figure size 640x480 with 1 Axes>"
            ],
            "image/png": "[encoded data removed]"
          },
          "metadata": {}
        },
        {
          "output_type": "stream",
          "name": "stdout",
          "text": [
            "Epoch 3, Loss: 0.4311, IoU: 0.8170\n"
          ]
        }
      ]
    },
    {
      "cell_type": "markdown",
      "source": [
        "# Save Model"
      ],
      "metadata": {
        "id": "5dQpiRDR06on"
      }
    },
    {
      "cell_type": "code",
      "source": [
        "model_path = \"/content/sunlit_model.pth\"\n",
        "torch.save(model.state_dict(), model_path)"
      ],
      "metadata": {
        "id": "BxAhKesfOgn5"
      },
      "execution_count": null,
      "outputs": []
    }
  ]
}